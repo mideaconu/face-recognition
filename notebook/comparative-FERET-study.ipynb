{
 "cells": [
  {
   "cell_type": "code",
   "execution_count": 1,
   "metadata": {
    "ExecuteTime": {
     "end_time": "2020-01-12T20:25:29.935470Z",
     "start_time": "2020-01-12T20:25:27.227717Z"
    }
   },
   "outputs": [],
   "source": [
    "import cv2\n",
    "import numpy as np\n",
    "import matplotlib.pyplot as plt\n",
    "from glob import iglob\n",
    "from scipy.spatial.distance import cityblock, cosine\n",
    "\n",
    "from machine_learning.decomposition import PCA, ICA, LDA\n",
    "from machine_learning.neighbours import kNN\n",
    "\n",
    "import sklearn.decomposition\n",
    "import sklearn.discriminant_analysis"
   ]
  },
  {
   "cell_type": "code",
   "execution_count": 2,
   "metadata": {
    "ExecuteTime": {
     "end_time": "2020-01-12T20:25:29.951428Z",
     "start_time": "2020-01-12T20:25:29.938777Z"
    }
   },
   "outputs": [],
   "source": [
    "def center(X):\n",
    "    return X - np.mean(X, axis=0)"
   ]
  },
  {
   "cell_type": "code",
   "execution_count": 3,
   "metadata": {
    "ExecuteTime": {
     "end_time": "2020-01-12T20:25:29.960887Z",
     "start_time": "2020-01-12T20:25:29.955059Z"
    }
   },
   "outputs": [],
   "source": [
    "def standardize(X):\n",
    "    return X / np.std(X, axis=0)"
   ]
  },
  {
   "cell_type": "code",
   "execution_count": 4,
   "metadata": {
    "ExecuteTime": {
     "end_time": "2020-01-12T20:25:29.972083Z",
     "start_time": "2020-01-12T20:25:29.965934Z"
    }
   },
   "outputs": [],
   "source": [
    "def preprocess(X):\n",
    "    X = center(X)\n",
    "    return standardize(X)"
   ]
  },
  {
   "cell_type": "code",
   "execution_count": 5,
   "metadata": {
    "ExecuteTime": {
     "end_time": "2020-01-12T20:25:29.982227Z",
     "start_time": "2020-01-12T20:25:29.975803Z"
    }
   },
   "outputs": [],
   "source": [
    "# Faster than SciPy's Manhattan\n",
    "def euclidean(a, b):\n",
    "    return np.linalg.norm(a - b)"
   ]
  },
  {
   "cell_type": "code",
   "execution_count": 6,
   "metadata": {
    "ExecuteTime": {
     "end_time": "2020-01-12T20:25:30.038889Z",
     "start_time": "2020-01-12T20:25:29.987126Z"
    }
   },
   "outputs": [],
   "source": [
    "# Read image files\n",
    "def read_images(directory_name):\n",
    "    X = []; y = []\n",
    "    for image in iglob(\"data/\" + directory_name + \"/*.pgm\"):\n",
    "        face = cv2.resize(plt.imread(image), (50, 60)).flatten()\n",
    "        X = np.append(X, face)\n",
    "        y = np.append(y, image.split(\"/\")[2][:5]) # Select the substring in the name that contains the class\n",
    "    X = np.reshape(X, (-1, 3000))\n",
    "    return X, y"
   ]
  },
  {
   "cell_type": "code",
   "execution_count": 7,
   "metadata": {
    "ExecuteTime": {
     "end_time": "2020-01-12T20:25:30.052183Z",
     "start_time": "2020-01-12T20:25:30.042580Z"
    }
   },
   "outputs": [],
   "source": [
    "def results(rank, knn_, X, y):\n",
    "    true = 0; total = len(X)\n",
    "    for i in range(total):\n",
    "        if y[i] in knn_.find_knn(rank, X[i]):\n",
    "            true += 1\n",
    "    return round(true / total*100, 2)"
   ]
  },
  {
   "cell_type": "markdown",
   "metadata": {},
   "source": [
    "# Training"
   ]
  },
  {
   "cell_type": "markdown",
   "metadata": {},
   "source": [
    "## Population-influenced training"
   ]
  },
  {
   "cell_type": "code",
   "execution_count": 8,
   "metadata": {
    "ExecuteTime": {
     "end_time": "2020-01-12T20:25:33.064520Z",
     "start_time": "2020-01-12T20:25:30.059825Z"
    }
   },
   "outputs": [],
   "source": [
    "X, y = read_images(\"training_set\")\n",
    "X = preprocess(X)\n",
    "Xt = preprocess(np.transpose(X)) # input data for ICA1"
   ]
  },
  {
   "cell_type": "code",
   "execution_count": 9,
   "metadata": {
    "ExecuteTime": {
     "end_time": "2020-01-12T20:25:33.396958Z",
     "start_time": "2020-01-12T20:25:33.070109Z"
    }
   },
   "outputs": [
    {
     "name": "stdout",
     "output_type": "stream",
     "text": [
      "The cumulative variance of the first 180 components is 99.66%\n"
     ]
    }
   ],
   "source": [
    "# PCA\n",
    "pca = PCA(n_components=180) # 40% of the number of images\n",
    "pca.fit(X)\n",
    "print(\"The cumulative variance of the first 180 components is \" + str(round(pca.explained_variance, 2)) + \"%\")"
   ]
  },
  {
   "cell_type": "code",
   "execution_count": 10,
   "metadata": {
    "ExecuteTime": {
     "end_time": "2020-01-12T20:25:53.406293Z",
     "start_time": "2020-01-12T20:25:33.399578Z"
    }
   },
   "outputs": [],
   "source": [
    "# ICA1\n",
    "pcat = PCA(n_components=180)\n",
    "pcat.fit(Xt)\n",
    "ica1 = ICA(n_components=180, method=\"deflationary\")\n",
    "ica1.fit(np.dot(Xt, pcat.components))"
   ]
  },
  {
   "cell_type": "code",
   "execution_count": 11,
   "metadata": {
    "ExecuteTime": {
     "end_time": "2020-01-12T20:25:56.419080Z",
     "start_time": "2020-01-12T20:25:53.408628Z"
    }
   },
   "outputs": [],
   "source": [
    "# ICA2\n",
    "ica2 = ICA(n_components=180, method=\"deflationary\")\n",
    "ica2.fit(np.dot(X, pca.components))"
   ]
  },
  {
   "cell_type": "code",
   "execution_count": 12,
   "metadata": {
    "ExecuteTime": {
     "end_time": "2020-01-12T20:25:56.501111Z",
     "start_time": "2020-01-12T20:25:56.421267Z"
    }
   },
   "outputs": [],
   "source": [
    "# LDA\n",
    "lda = LDA(n_components=180) \n",
    "lda.fit(np.dot(X, pca.components), y)"
   ]
  },
  {
   "cell_type": "code",
   "execution_count": 13,
   "metadata": {
    "ExecuteTime": {
     "end_time": "2020-01-12T20:25:56.540125Z",
     "start_time": "2020-01-12T20:25:56.503390Z"
    }
   },
   "outputs": [],
   "source": [
    "PC = pca.components\n",
    "IC1 = np.dot(ica1.components, np.transpose(PC))\n",
    "IC2 = np.dot(ica2.components, np.transpose(PC))\n",
    "LD = np.dot(lda.components, np.transpose(PC))"
   ]
  },
  {
   "cell_type": "code",
   "execution_count": 14,
   "metadata": {
    "ExecuteTime": {
     "end_time": "2020-01-12T20:25:56.928221Z",
     "start_time": "2020-01-12T20:25:56.542318Z"
    }
   },
   "outputs": [
    {
     "data": {
      "image/png": "[encoded data removed]",
      "text/plain": [
       "<Figure size 1224x216 with 10 Axes>"
      ]
     },
     "metadata": {},
     "output_type": "display_data"
    }
   ],
   "source": [
    "PC_ = np.transpose(PC) # for vizualization\n",
    "fig, axes = plt.subplots(1, 10, figsize=(17, 3), subplot_kw={\"xticks\":[], \"yticks\":[]})\n",
    "for i, ax in enumerate(axes.flat):\n",
    "    ax.imshow(PC_[i].reshape(60, 50), cmap=\"gray\")"
   ]
  },
  {
   "cell_type": "code",
   "execution_count": 15,
   "metadata": {
    "ExecuteTime": {
     "end_time": "2020-01-12T20:25:57.377153Z",
     "start_time": "2020-01-12T20:25:56.937427Z"
    }
   },
   "outputs": [
    {
     "data": {
      "image/png": "[encoded data removed]",
      "text/plain": [
       "<Figure size 1224x216 with 10 Axes>"
      ]
     },
     "metadata": {},
     "output_type": "display_data"
    }
   ],
   "source": [
    "IC1_ = np.dot(ica1.components, np.dot(np.transpose(pcat.components), X)) # for vizualization\n",
    "fig, axes = plt.subplots(1, 10, figsize=(17, 3), subplot_kw={\"xticks\":[], \"yticks\":[]})\n",
    "for i, ax in enumerate(axes.flat):\n",
    "    ax.imshow(IC1_[i].reshape(60, 50), cmap=\"gray\")"
   ]
  },
  {
   "cell_type": "code",
   "execution_count": 16,
   "metadata": {
    "ExecuteTime": {
     "end_time": "2020-01-12T20:25:57.801712Z",
     "start_time": "2020-01-12T20:25:57.382451Z"
    }
   },
   "outputs": [
    {
     "data": {
      "image/png": "[encoded data removed]",
      "text/plain": [
       "<Figure size 1224x216 with 10 Axes>"
      ]
     },
     "metadata": {},
     "output_type": "display_data"
    }
   ],
   "source": [
    "fig, axes = plt.subplots(1, 10, figsize=(17, 3), subplot_kw={\"xticks\":[], \"yticks\":[]})\n",
    "for i, ax in enumerate(axes.flat):\n",
    "    ax.imshow(IC2[i].reshape(60, 50), cmap=\"gray\")"
   ]
  },
  {
   "cell_type": "code",
   "execution_count": 17,
   "metadata": {
    "ExecuteTime": {
     "end_time": "2020-01-12T20:25:58.272227Z",
     "start_time": "2020-01-12T20:25:57.804927Z"
    }
   },
   "outputs": [
    {
     "data": {
      "image/png": "[encoded data removed]",
      "text/plain": [
       "<Figure size 1224x216 with 10 Axes>"
      ]
     },
     "metadata": {},
     "output_type": "display_data"
    }
   ],
   "source": [
    "fig, axes = plt.subplots(1, 10, figsize=(17, 3), subplot_kw={\"xticks\":[], \"yticks\":[]})\n",
    "for i, ax in enumerate(axes.flat):\n",
    "    ax.imshow(LD[i].reshape(60, 50), cmap=\"gray\")"
   ]
  },
  {
   "cell_type": "markdown",
   "metadata": {},
   "source": [
    "## Fairness-aware training"
   ]
  },
  {
   "cell_type": "code",
   "execution_count": 18,
   "metadata": {
    "ExecuteTime": {
     "end_time": "2020-01-12T20:26:01.665102Z",
     "start_time": "2020-01-12T20:25:58.275516Z"
    }
   },
   "outputs": [],
   "source": [
    "Xf, yf = read_images(\"fair_training_set\")\n",
    "Xf = preprocess(Xf)\n",
    "Xft = preprocess(np.transpose(Xf)) # input data for ICA1"
   ]
  },
  {
   "cell_type": "code",
   "execution_count": 19,
   "metadata": {
    "ExecuteTime": {
     "end_time": "2020-01-12T20:26:01.887642Z",
     "start_time": "2020-01-12T20:26:01.667485Z"
    }
   },
   "outputs": [
    {
     "name": "stdout",
     "output_type": "stream",
     "text": [
      "The cumulative variance of the first 180 components is 99.68%\n"
     ]
    }
   ],
   "source": [
    "# PCA\n",
    "pcaf = PCA(n_components=180) # 40% of the number of images\n",
    "pcaf.fit(Xf)\n",
    "print(\"The cumulative variance of the first 180 components is \" + str(round(pcaf.explained_variance, 2)) + \"%\")"
   ]
  },
  {
   "cell_type": "code",
   "execution_count": 20,
   "metadata": {
    "ExecuteTime": {
     "end_time": "2020-01-12T20:26:40.308055Z",
     "start_time": "2020-01-12T20:26:01.893576Z"
    }
   },
   "outputs": [],
   "source": [
    "# ICA1\n",
    "pcaft = PCA(n_components=180)\n",
    "pcaft.fit(Xft)\n",
    "ica1f = ICA(n_components=180, method=\"deflationary\")\n",
    "ica1f.fit(np.dot(Xft, pcaft.components))"
   ]
  },
  {
   "cell_type": "code",
   "execution_count": 21,
   "metadata": {
    "ExecuteTime": {
     "end_time": "2020-01-12T20:26:45.259184Z",
     "start_time": "2020-01-12T20:26:40.312800Z"
    }
   },
   "outputs": [],
   "source": [
    "# ICA2\n",
    "ica2f = ICA(n_components=180, method=\"deflationary\")\n",
    "ica2f.fit(np.dot(Xf, pcaf.components))"
   ]
  },
  {
   "cell_type": "code",
   "execution_count": 22,
   "metadata": {
    "ExecuteTime": {
     "end_time": "2020-01-12T20:26:45.438301Z",
     "start_time": "2020-01-12T20:26:45.263032Z"
    }
   },
   "outputs": [],
   "source": [
    "# LDA\n",
    "ldaf = LDA(n_components=180) \n",
    "ldaf.fit(np.dot(Xf, pcaf.components), yf)"
   ]
  },
  {
   "cell_type": "code",
   "execution_count": 23,
   "metadata": {
    "ExecuteTime": {
     "end_time": "2020-01-12T20:26:45.518698Z",
     "start_time": "2020-01-12T20:26:45.470538Z"
    }
   },
   "outputs": [],
   "source": [
    "PCf = pcaf.components\n",
    "IC1f = np.dot(ica1f.components, np.transpose(PCf))\n",
    "IC2f = np.dot(ica2f.components, np.transpose(PCf))\n",
    "LDf = np.dot(ldaf.components, np.transpose(PCf))"
   ]
  },
  {
   "cell_type": "code",
   "execution_count": 24,
   "metadata": {
    "ExecuteTime": {
     "end_time": "2020-01-12T20:26:46.152599Z",
     "start_time": "2020-01-12T20:26:45.529855Z"
    }
   },
   "outputs": [
    {
     "data": {
      "image/png": "[encoded data removed]",
      "text/plain": [
       "<Figure size 1224x216 with 10 Axes>"
      ]
     },
     "metadata": {},
     "output_type": "display_data"
    }
   ],
   "source": [
    "PCf_ = np.transpose(PCf) # for vizualization\n",
    "fig, axes = plt.subplots(1, 10, figsize=(17, 3), subplot_kw={\"xticks\":[], \"yticks\":[]})\n",
    "for i, ax in enumerate(axes.flat):\n",
    "    ax.imshow(PCf_[i].reshape(60, 50), cmap=\"gray\")"
   ]
  },
  {
   "cell_type": "code",
   "execution_count": 25,
   "metadata": {
    "ExecuteTime": {
     "end_time": "2020-01-12T20:26:46.911516Z",
     "start_time": "2020-01-12T20:26:46.162790Z"
    }
   },
   "outputs": [
    {
     "data": {
      "image/png": "[encoded data removed]",
      "text/plain": [
       "<Figure size 1224x216 with 10 Axes>"
      ]
     },
     "metadata": {},
     "output_type": "display_data"
    }
   ],
   "source": [
    "IC1f_ = np.dot(ica1f.components, np.dot(np.transpose(pcaft.components), Xf)) # for vizualization\n",
    "fig, axes = plt.subplots(1, 10, figsize=(17, 3), subplot_kw={\"xticks\":[], \"yticks\":[]})\n",
    "for i, ax in enumerate(axes.flat):\n",
    "    ax.imshow(IC1f_[i].reshape(60, 50), cmap=\"gray\")"
   ]
  },
  {
   "cell_type": "code",
   "execution_count": 26,
   "metadata": {
    "ExecuteTime": {
     "end_time": "2020-01-12T20:26:47.487928Z",
     "start_time": "2020-01-12T20:26:46.923497Z"
    }
   },
   "outputs": [
    {
     "data": {
      "image/png": "[encoded data removed]",
      "text/plain": [
       "<Figure size 1224x216 with 10 Axes>"
      ]
     },
     "metadata": {},
     "output_type": "display_data"
    }
   ],
   "source": [
    "fig, axes = plt.subplots(1, 10, figsize=(17, 3), subplot_kw={\"xticks\":[], \"yticks\":[]})\n",
    "for i, ax in enumerate(axes.flat):\n",
    "    ax.imshow(IC2f[i].reshape(60, 50), cmap=\"gray\")"
   ]
  },
  {
   "cell_type": "code",
   "execution_count": 27,
   "metadata": {
    "ExecuteTime": {
     "end_time": "2020-01-12T20:26:48.465331Z",
     "start_time": "2020-01-12T20:26:47.492358Z"
    }
   },
   "outputs": [
    {
     "data": {
      "image/png": "[encoded data removed]",
      "text/plain": [
       "<Figure size 1224x216 with 10 Axes>"
      ]
     },
     "metadata": {},
     "output_type": "display_data"
    }
   ],
   "source": [
    "fig, axes = plt.subplots(1, 10, figsize=(17, 3), subplot_kw={\"xticks\":[], \"yticks\":[]})\n",
    "for i, ax in enumerate(axes.flat):\n",
    "    ax.imshow(LDf[i].reshape(60, 50), cmap=\"gray\")"
   ]
  },
  {
   "cell_type": "markdown",
   "metadata": {},
   "source": [
    "# Results"
   ]
  },
  {
   "cell_type": "markdown",
   "metadata": {},
   "source": [
    "## FERET testing methodology"
   ]
  },
  {
   "cell_type": "code",
   "execution_count": 28,
   "metadata": {
    "ExecuteTime": {
     "end_time": "2020-01-12T20:27:19.512903Z",
     "start_time": "2020-01-12T20:26:48.473530Z"
    }
   },
   "outputs": [],
   "source": [
    "Xg, yg = read_images(\"gallery\")\n",
    "Xg = preprocess(Xg)"
   ]
  },
  {
   "cell_type": "code",
   "execution_count": 29,
   "metadata": {
    "ExecuteTime": {
     "end_time": "2020-01-12T20:27:19.866950Z",
     "start_time": "2020-01-12T20:27:19.535881Z"
    }
   },
   "outputs": [],
   "source": [
    "# FERET gallery set projected on models trained on population-influenced data\n",
    "Xg_pca = np.dot(Xg, PC)\n",
    "Xg_ica1 = np.dot(Xg, np.transpose(IC1))\n",
    "Xg_ica2 = np.dot(Xg, np.transpose(IC2))\n",
    "Xg_lda = np.dot(Xg, np.transpose(LD))"
   ]
  },
  {
   "cell_type": "code",
   "execution_count": 30,
   "metadata": {
    "ExecuteTime": {
     "end_time": "2020-01-12T20:27:20.727130Z",
     "start_time": "2020-01-12T20:27:19.899557Z"
    }
   },
   "outputs": [],
   "source": [
    "# FERET gallery set projected on models trained on fairness-aware data\n",
    "Xg_pcaf = np.dot(Xg, PCf)\n",
    "Xg_ica1f = np.dot(Xg, np.transpose(IC1f))\n",
    "Xg_ica2f = np.dot(Xg, np.transpose(IC2f))\n",
    "Xg_ldaf = np.dot(Xg, np.transpose(LDf))"
   ]
  },
  {
   "cell_type": "code",
   "execution_count": 31,
   "metadata": {
    "ExecuteTime": {
     "end_time": "2020-01-12T20:27:34.522708Z",
     "start_time": "2020-01-12T20:27:20.840113Z"
    }
   },
   "outputs": [],
   "source": [
    "Xfb, yfb = read_images(\"fb\")\n",
    "Xfb = preprocess(Xfb)"
   ]
  },
  {
   "cell_type": "code",
   "execution_count": 32,
   "metadata": {
    "ExecuteTime": {
     "end_time": "2020-01-12T20:27:34.729695Z",
     "start_time": "2020-01-12T20:27:34.525068Z"
    }
   },
   "outputs": [],
   "source": [
    "# FB probe set projected on models trained on population-influenced data\n",
    "Xfb_pca = np.dot(Xfb, PC)\n",
    "Xfb_ica1 = np.dot(Xfb, np.transpose(IC1))\n",
    "Xfb_ica2 = np.dot(Xfb, np.transpose(IC2))\n",
    "Xfb_lda = np.dot(Xfb, np.transpose(LD))"
   ]
  },
  {
   "cell_type": "code",
   "execution_count": 33,
   "metadata": {
    "ExecuteTime": {
     "end_time": "2020-01-12T20:27:34.852481Z",
     "start_time": "2020-01-12T20:27:34.733555Z"
    }
   },
   "outputs": [],
   "source": [
    "# FB probe set projected on models trained on fairness-aware data\n",
    "Xfb_pcaf = np.dot(Xfb, PCf)\n",
    "Xfb_ica1f = np.dot(Xfb, np.transpose(IC1f))\n",
    "Xfb_ica2f = np.dot(Xfb, np.transpose(IC2f))\n",
    "Xfb_ldaf = np.dot(Xfb, np.transpose(LDf))"
   ]
  },
  {
   "cell_type": "code",
   "execution_count": 34,
   "metadata": {
    "ExecuteTime": {
     "end_time": "2020-01-12T20:27:35.606806Z",
     "start_time": "2020-01-12T20:27:34.856269Z"
    }
   },
   "outputs": [],
   "source": [
    "Xfc, yfc = read_images(\"fc\")\n",
    "Xfc = preprocess(Xfc)"
   ]
  },
  {
   "cell_type": "code",
   "execution_count": 35,
   "metadata": {
    "ExecuteTime": {
     "end_time": "2020-01-12T20:27:35.657814Z",
     "start_time": "2020-01-12T20:27:35.609341Z"
    }
   },
   "outputs": [],
   "source": [
    "# FC probe set projected on models trained on population-influenced data\n",
    "Xfc_pca = np.dot(Xfc, PC)\n",
    "Xfc_ica1 = np.dot(Xfc, np.transpose(IC1))\n",
    "Xfc_ica2 = np.dot(Xfc, np.transpose(IC2))\n",
    "Xfc_lda = np.dot(Xfc, np.transpose(LD))"
   ]
  },
  {
   "cell_type": "code",
   "execution_count": 36,
   "metadata": {
    "ExecuteTime": {
     "end_time": "2020-01-12T20:27:35.698999Z",
     "start_time": "2020-01-12T20:27:35.662269Z"
    }
   },
   "outputs": [],
   "source": [
    "# FC probe set projected on models trained on fairness-aware data\n",
    "Xfc_pcaf = np.dot(Xfc, PCf)\n",
    "Xfc_ica1f = np.dot(Xfc, np.transpose(IC1f))\n",
    "Xfc_ica2f = np.dot(Xfc, np.transpose(IC2f))\n",
    "Xfc_ldaf = np.dot(Xfc, np.transpose(LDf))"
   ]
  },
  {
   "cell_type": "code",
   "execution_count": 37,
   "metadata": {
    "ExecuteTime": {
     "end_time": "2020-01-12T20:27:41.455091Z",
     "start_time": "2020-01-12T20:27:35.703082Z"
    }
   },
   "outputs": [],
   "source": [
    "Xd1, yd1 = read_images(\"dup1\")\n",
    "Xd1 = preprocess(Xd1)"
   ]
  },
  {
   "cell_type": "code",
   "execution_count": 38,
   "metadata": {
    "ExecuteTime": {
     "end_time": "2020-01-12T20:27:41.603648Z",
     "start_time": "2020-01-12T20:27:41.460197Z"
    }
   },
   "outputs": [],
   "source": [
    "# DUP1 probe set projected on models trained on population-influenced data\n",
    "Xd1_pca = np.dot(Xd1, PC)\n",
    "Xd1_ica1 = np.dot(Xd1, np.transpose(IC1))\n",
    "Xd1_ica2 = np.dot(Xd1, np.transpose(IC2))\n",
    "Xd1_lda = np.dot(Xd1, np.transpose(LD))"
   ]
  },
  {
   "cell_type": "code",
   "execution_count": 39,
   "metadata": {
    "ExecuteTime": {
     "end_time": "2020-01-12T20:27:41.776141Z",
     "start_time": "2020-01-12T20:27:41.658246Z"
    }
   },
   "outputs": [],
   "source": [
    "# DUP1 probe set projected on models trained on fairness-aware data\n",
    "Xd1_pcaf = np.dot(Xd1, PCf)\n",
    "Xd1_ica1f = np.dot(Xd1, np.transpose(IC1f))\n",
    "Xd1_ica2f = np.dot(Xd1, np.transpose(IC2f))\n",
    "Xd1_ldaf = np.dot(Xd1, np.transpose(LDf))"
   ]
  },
  {
   "cell_type": "code",
   "execution_count": 40,
   "metadata": {
    "ExecuteTime": {
     "end_time": "2020-01-12T20:27:42.561925Z",
     "start_time": "2020-01-12T20:27:41.793311Z"
    }
   },
   "outputs": [],
   "source": [
    "Xd2, yd2 = read_images(\"dup2\")\n",
    "Xd2 = preprocess(Xd2)"
   ]
  },
  {
   "cell_type": "code",
   "execution_count": 41,
   "metadata": {
    "ExecuteTime": {
     "end_time": "2020-01-12T20:27:42.616237Z",
     "start_time": "2020-01-12T20:27:42.566330Z"
    }
   },
   "outputs": [],
   "source": [
    "# DUP2 probe set projected on models trained on population-influenced data\n",
    "Xd2_pca = np.dot(Xd2, PC)\n",
    "Xd2_ica1 = np.dot(Xd2, np.transpose(IC1))\n",
    "Xd2_ica2 = np.dot(Xd2, np.transpose(IC2))\n",
    "Xd2_lda = np.dot(Xd2, np.transpose(LD))"
   ]
  },
  {
   "cell_type": "code",
   "execution_count": 42,
   "metadata": {
    "ExecuteTime": {
     "end_time": "2020-01-12T20:27:42.675568Z",
     "start_time": "2020-01-12T20:27:42.621150Z"
    }
   },
   "outputs": [],
   "source": [
    "# DUP2 probe set projected on models trained on fairness-aware data\n",
    "Xd2_pcaf = np.dot(Xd2, PCf)\n",
    "Xd2_ica1f = np.dot(Xd2, np.transpose(IC1f))\n",
    "Xd2_ica2f = np.dot(Xd2, np.transpose(IC2f))\n",
    "Xd2_ldaf = np.dot(Xd2, np.transpose(LDf))"
   ]
  },
  {
   "cell_type": "markdown",
   "metadata": {},
   "source": [
    "### kNN training"
   ]
  },
  {
   "cell_type": "code",
   "execution_count": 43,
   "metadata": {
    "ExecuteTime": {
     "end_time": "2020-01-12T20:27:45.896531Z",
     "start_time": "2020-01-12T20:27:42.679567Z"
    }
   },
   "outputs": [
    {
     "name": "stderr",
     "output_type": "stream",
     "text": [
      "/Users/ionutdeaconu/opt/anaconda3/lib/python3.7/site-packages/ipykernel_launcher.py:2: DeprecationWarning: Using or importing the ABCs from 'collections' instead of from 'collections.abc' is deprecated, and in 3.8 it will stop working\n",
      "  \n"
     ]
    }
   ],
   "source": [
    "# kNN trained on the PCA projection of the FERET gallery set trained on population-influenced data\n",
    "knn_pca_l1 = kNN(Xg_pca, yg, cityblock, 100)\n",
    "knn_pca_l2 = kNN(Xg_pca, yg, euclidean, 100)\n",
    "knn_pca_cos = kNN(Xg_pca, yg, cosine, 100)"
   ]
  },
  {
   "cell_type": "code",
   "execution_count": 44,
   "metadata": {
    "ExecuteTime": {
     "end_time": "2020-01-12T20:27:47.584865Z",
     "start_time": "2020-01-12T20:27:45.926712Z"
    }
   },
   "outputs": [],
   "source": [
    "# kNN trained on the ICA1 projection of the FERET gallery set trained on population-influenced data\n",
    "knn_ica1_l1 = kNN(Xg_ica1, yg, cityblock, 100)\n",
    "knn_ica1_l2 = kNN(Xg_ica1, yg, euclidean, 100)\n",
    "knn_ica1_cos = kNN(Xg_ica1, yg, cosine, 100)"
   ]
  },
  {
   "cell_type": "code",
   "execution_count": 45,
   "metadata": {
    "ExecuteTime": {
     "end_time": "2020-01-12T20:27:49.027690Z",
     "start_time": "2020-01-12T20:27:47.587129Z"
    }
   },
   "outputs": [],
   "source": [
    "# kNN trained on the ICA2 projection of the FERET gallery set trained on population-influenced data\n",
    "knn_ica2_l1 = kNN(Xg_ica2, yg, cityblock, 100)\n",
    "knn_ica2_l2 = kNN(Xg_ica2, yg, euclidean, 100)\n",
    "knn_ica2_cos = kNN(Xg_ica2, yg, cosine, 100)"
   ]
  },
  {
   "cell_type": "code",
   "execution_count": 46,
   "metadata": {
    "ExecuteTime": {
     "end_time": "2020-01-12T20:27:50.375340Z",
     "start_time": "2020-01-12T20:27:49.030632Z"
    }
   },
   "outputs": [],
   "source": [
    "# kNN trained on the LDA projection of the FERET gallery set trained on population-influenced data\n",
    "knn_lda_l1 = kNN(Xg_lda, yg, cityblock, 100)\n",
    "knn_lda_l2 = kNN(Xg_lda, yg, euclidean, 100)\n",
    "knn_lda_cos = kNN(Xg_lda, yg, cosine, 100)"
   ]
  },
  {
   "cell_type": "code",
   "execution_count": 47,
   "metadata": {
    "ExecuteTime": {
     "end_time": "2020-01-12T20:27:52.210807Z",
     "start_time": "2020-01-12T20:27:50.377702Z"
    }
   },
   "outputs": [],
   "source": [
    "# kNN trained on the PCA projection of the FERET gallery set trained on fairness-aware data\n",
    "knn_pcaf_l1 = kNN(Xg_pcaf, yg, cityblock, 100)\n",
    "knn_pcaf_l2 = kNN(Xg_pcaf, yg, euclidean, 100)\n",
    "knn_pcaf_cos = kNN(Xg_pcaf, yg, cosine, 100)"
   ]
  },
  {
   "cell_type": "code",
   "execution_count": 48,
   "metadata": {
    "ExecuteTime": {
     "end_time": "2020-01-12T20:27:53.578794Z",
     "start_time": "2020-01-12T20:27:52.214876Z"
    }
   },
   "outputs": [],
   "source": [
    "# kNN trained on the ICA1 projection of the FERET gallery set trained on fairness-aware data\n",
    "knn_ica1f_l1 = kNN(Xg_ica1f, yg, cityblock, 100)\n",
    "knn_ica1f_l2 = kNN(Xg_ica1f, yg, euclidean, 100)\n",
    "knn_ica1f_cos = kNN(Xg_ica1f, yg, cosine, 100)"
   ]
  },
  {
   "cell_type": "code",
   "execution_count": 49,
   "metadata": {
    "ExecuteTime": {
     "end_time": "2020-01-12T20:27:54.934383Z",
     "start_time": "2020-01-12T20:27:53.581057Z"
    }
   },
   "outputs": [],
   "source": [
    "# kNN trained on the ICA2 projection of the FERET gallery set trained on fairness-aware data\n",
    "knn_ica2f_l1 = kNN(Xg_ica2f, yg, cityblock, 100)\n",
    "knn_ica2f_l2 = kNN(Xg_ica2f, yg, euclidean, 100)\n",
    "knn_ica2f_cos = kNN(Xg_ica2f, yg, cosine, 100)"
   ]
  },
  {
   "cell_type": "code",
   "execution_count": 50,
   "metadata": {
    "ExecuteTime": {
     "end_time": "2020-01-12T20:27:56.290553Z",
     "start_time": "2020-01-12T20:27:54.936923Z"
    }
   },
   "outputs": [],
   "source": [
    "# kNN trained on the LDA projection of the FERET gallery set trained on fairness-aware data\n",
    "knn_ldaf_l1 = kNN(Xg_ldaf, yg, cityblock, 100)\n",
    "knn_ldaf_l2 = kNN(Xg_ldaf, yg, euclidean, 100)\n",
    "knn_ldaf_cos = kNN(Xg_ldaf, yg, cosine, 100)"
   ]
  },
  {
   "cell_type": "markdown",
   "metadata": {},
   "source": [
    "### FERET testing"
   ]
  },
  {
   "cell_type": "markdown",
   "metadata": {},
   "source": [
    "#### Population-influenced data"
   ]
  },
  {
   "cell_type": "markdown",
   "metadata": {},
   "source": [
    "##### FB probe set"
   ]
  },
  {
   "cell_type": "code",
   "execution_count": 51,
   "metadata": {
    "ExecuteTime": {
     "end_time": "2020-01-12T20:29:45.089647Z",
     "start_time": "2020-01-12T20:27:56.292772Z"
    }
   },
   "outputs": [
    {
     "name": "stdout",
     "output_type": "stream",
     "text": [
      "Results on the FB probe set for the PCA projection of the FERET gallery set:\n",
      "L1: 72.97\n",
      "L2: 74.06\n",
      "COS: 76.07\n"
     ]
    }
   ],
   "source": [
    "print(\"Results on the FB probe set for the PCA projection of the FERET gallery set:\")\n",
    "print(\"L1: \" + str(results(1, knn_pca_l1, Xfb_pca, yfb)))\n",
    "print(\"L2: \" + str(results(1, knn_pca_l2, Xfb_pca, yfb)))\n",
    "print(\"COS: \" + str(results(1, knn_pca_cos, Xfb_pca, yfb)))"
   ]
  },
  {
   "cell_type": "code",
   "execution_count": 52,
   "metadata": {
    "ExecuteTime": {
     "end_time": "2020-01-12T20:31:34.959330Z",
     "start_time": "2020-01-12T20:29:45.093598Z"
    }
   },
   "outputs": [
    {
     "name": "stdout",
     "output_type": "stream",
     "text": [
      "Results on the FB probe set for the ICA1 projection of the FERET gallery set:\n",
      "L1: 61.76\n",
      "L2: 62.76\n",
      "COS: 76.57\n"
     ]
    }
   ],
   "source": [
    "print(\"Results on the FB probe set for the ICA1 projection of the FERET gallery set:\")\n",
    "print(\"L1: \" + str(results(1, knn_ica1_l1, Xfb_ica1, yfb)))\n",
    "print(\"L2: \" + str(results(1, knn_ica1_l2, Xfb_ica1, yfb)))\n",
    "print(\"COS: \" + str(results(1, knn_ica1_cos, Xfb_ica1, yfb)))"
   ]
  },
  {
   "cell_type": "code",
   "execution_count": 53,
   "metadata": {
    "ExecuteTime": {
     "end_time": "2020-01-12T20:33:23.018395Z",
     "start_time": "2020-01-12T20:31:34.963509Z"
    }
   },
   "outputs": [
    {
     "name": "stdout",
     "output_type": "stream",
     "text": [
      "Results on the FB probe set for the ICA2 projection of the FERET gallery set:\n",
      "L1: 61.17\n",
      "L2: 62.76\n",
      "COS: 76.4\n"
     ]
    }
   ],
   "source": [
    "print(\"Results on the FB probe set for the ICA2 projection of the FERET gallery set:\")\n",
    "print(\"L1: \" + str(results(1, knn_ica2_l1, Xfb_ica2, yfb)))\n",
    "print(\"L2: \" + str(results(1, knn_ica2_l2, Xfb_ica2, yfb)))\n",
    "print(\"COS: \" + str(results(1, knn_ica2_cos, Xfb_ica2, yfb)))"
   ]
  },
  {
   "cell_type": "code",
   "execution_count": 54,
   "metadata": {
    "ExecuteTime": {
     "end_time": "2020-01-12T20:34:58.606379Z",
     "start_time": "2020-01-12T20:33:23.022700Z"
    }
   },
   "outputs": [
    {
     "name": "stdout",
     "output_type": "stream",
     "text": [
      "Results on the FB probe set for the LDA projection of the FERET gallery set:\n",
      "L1: 76.65\n",
      "L2: 74.06\n",
      "COS: 76.07\n"
     ]
    }
   ],
   "source": [
    "print(\"Results on the FB probe set for the LDA projection of the FERET gallery set:\")\n",
    "print(\"L1: \" + str(results(1, knn_lda_l1, Xfb_lda, yfb)))\n",
    "print(\"L2: \" + str(results(1, knn_lda_l2, Xfb_lda, yfb)))\n",
    "print(\"COS: \" + str(results(1, knn_lda_cos, Xfb_lda, yfb)))"
   ]
  },
  {
   "cell_type": "markdown",
   "metadata": {},
   "source": [
    "##### FC probe set"
   ]
  },
  {
   "cell_type": "code",
   "execution_count": 55,
   "metadata": {
    "ExecuteTime": {
     "end_time": "2020-01-12T20:35:15.650874Z",
     "start_time": "2020-01-12T20:34:58.610839Z"
    }
   },
   "outputs": [
    {
     "name": "stdout",
     "output_type": "stream",
     "text": [
      "Results on the FC probe set for the PCA projection of the FERET gallery set:\n",
      "L1: 71.65\n",
      "L2: 55.15\n",
      "COS: 50.52\n"
     ]
    }
   ],
   "source": [
    "print(\"Results on the FC probe set for the PCA projection of the FERET gallery set:\")\n",
    "print(\"L1: \" + str(results(1, knn_pca_l1, Xfc_pca, yfc)))\n",
    "print(\"L2: \" + str(results(1, knn_pca_l2, Xfc_pca, yfc)))\n",
    "print(\"COS: \" + str(results(1, knn_pca_cos, Xfc_pca, yfc)))"
   ]
  },
  {
   "cell_type": "code",
   "execution_count": 56,
   "metadata": {
    "ExecuteTime": {
     "end_time": "2020-01-12T20:35:33.634470Z",
     "start_time": "2020-01-12T20:35:15.655202Z"
    }
   },
   "outputs": [
    {
     "name": "stdout",
     "output_type": "stream",
     "text": [
      "Results on the FC probe set for the ICA1 projection of the FERET gallery set:\n",
      "L1: 64.95\n",
      "L2: 67.01\n",
      "COS: 75.26\n"
     ]
    }
   ],
   "source": [
    "print(\"Results on the FC probe set for the ICA1 projection of the FERET gallery set:\")\n",
    "print(\"L1: \" + str(results(1, knn_ica1_l1, Xfc_ica1, yfc)))\n",
    "print(\"L2: \" + str(results(1, knn_ica1_l2, Xfc_ica1, yfc)))\n",
    "print(\"COS: \" + str(results(1, knn_ica1_cos, Xfc_ica1, yfc)))"
   ]
  },
  {
   "cell_type": "code",
   "execution_count": 57,
   "metadata": {
    "ExecuteTime": {
     "end_time": "2020-01-12T20:35:51.412986Z",
     "start_time": "2020-01-12T20:35:33.639276Z"
    }
   },
   "outputs": [
    {
     "name": "stdout",
     "output_type": "stream",
     "text": [
      "Results on the FC probe set for the ICA2 projection of the FERET gallery set:\n",
      "L1: 62.37\n",
      "L2: 66.49\n",
      "COS: 74.74\n"
     ]
    }
   ],
   "source": [
    "print(\"Results on the FC probe set for the ICA2 projection of the FERET gallery set:\")\n",
    "print(\"L1: \" + str(results(1, knn_ica2_l1, Xfc_ica2, yfc)))\n",
    "print(\"L2: \" + str(results(1, knn_ica2_l2, Xfc_ica2, yfc)))\n",
    "print(\"COS: \" + str(results(1, knn_ica2_cos, Xfc_ica2, yfc)))"
   ]
  },
  {
   "cell_type": "code",
   "execution_count": 58,
   "metadata": {
    "ExecuteTime": {
     "end_time": "2020-01-12T20:36:08.652069Z",
     "start_time": "2020-01-12T20:35:51.416795Z"
    }
   },
   "outputs": [
    {
     "name": "stdout",
     "output_type": "stream",
     "text": [
      "Results on the FC probe set for the LDA projection of the FERET gallery set:\n",
      "L1: 60.82\n",
      "L2: 55.15\n",
      "COS: 50.52\n"
     ]
    }
   ],
   "source": [
    "print(\"Results on the FC probe set for the LDA projection of the FERET gallery set:\")\n",
    "print(\"L1: \" + str(results(1, knn_lda_l1, Xfc_lda, yfc)))\n",
    "print(\"L2: \" + str(results(1, knn_lda_l2, Xfc_lda, yfc)))\n",
    "print(\"COS: \" + str(results(1, knn_lda_cos, Xfc_lda, yfc)))"
   ]
  },
  {
   "cell_type": "markdown",
   "metadata": {
    "ExecuteTime": {
     "end_time": "2020-01-09T14:26:55.342327Z",
     "start_time": "2020-01-09T14:26:55.337999Z"
    }
   },
   "source": [
    "##### DUP1 probe set"
   ]
  },
  {
   "cell_type": "code",
   "execution_count": 59,
   "metadata": {
    "ExecuteTime": {
     "end_time": "2020-01-12T20:37:09.125841Z",
     "start_time": "2020-01-12T20:36:08.655812Z"
    }
   },
   "outputs": [
    {
     "name": "stdout",
     "output_type": "stream",
     "text": [
      "Results on the DUP1 probe set for the PCA projection of the FERET gallery set:\n",
      "L1: 32.13\n",
      "L2: 29.78\n",
      "COS: 32.55\n"
     ]
    }
   ],
   "source": [
    "print(\"Results on the DUP1 probe set for the PCA projection of the FERET gallery set:\")\n",
    "print(\"L1: \" + str(results(1, knn_pca_l1, Xd1_pca, yd1)))\n",
    "print(\"L2: \" + str(results(1, knn_pca_l2, Xd1_pca, yd1)))\n",
    "print(\"COS: \" + str(results(1, knn_pca_cos, Xd1_pca, yd1)))"
   ]
  },
  {
   "cell_type": "code",
   "execution_count": 60,
   "metadata": {
    "ExecuteTime": {
     "end_time": "2020-01-12T20:38:14.494158Z",
     "start_time": "2020-01-12T20:37:09.129870Z"
    }
   },
   "outputs": [
    {
     "name": "stdout",
     "output_type": "stream",
     "text": [
      "Results on the DUP1 probe set for the ICA1 projection of the FERET gallery set:\n",
      "L1: 24.65\n",
      "L2: 25.48\n",
      "COS: 41.83\n"
     ]
    }
   ],
   "source": [
    "print(\"Results on the DUP1 probe set for the ICA1 projection of the FERET gallery set:\")\n",
    "print(\"L1: \" + str(results(1, knn_ica1_l1, Xd1_ica1, yd1)))\n",
    "print(\"L2: \" + str(results(1, knn_ica1_l2, Xd1_ica1, yd1)))\n",
    "print(\"COS: \" + str(results(1, knn_ica1_cos, Xd1_ica1, yd1)))"
   ]
  },
  {
   "cell_type": "code",
   "execution_count": 61,
   "metadata": {
    "ExecuteTime": {
     "end_time": "2020-01-12T20:39:20.368787Z",
     "start_time": "2020-01-12T20:38:14.497689Z"
    }
   },
   "outputs": [
    {
     "name": "stdout",
     "output_type": "stream",
     "text": [
      "Results on the DUP1 probe set for the ICA1 projection of the FERET gallery set:\n",
      "L1: 20.22\n",
      "L2: 25.62\n",
      "COS: 41.69\n"
     ]
    }
   ],
   "source": [
    "print(\"Results on the DUP1 probe set for the ICA1 projection of the FERET gallery set:\")\n",
    "print(\"L1: \" + str(results(1, knn_ica2_l1, Xd1_ica2, yd1)))\n",
    "print(\"L2: \" + str(results(1, knn_ica2_l2, Xd1_ica2, yd1)))\n",
    "print(\"COS: \" + str(results(1, knn_ica2_cos, Xd1_ica2, yd1)))"
   ]
  },
  {
   "cell_type": "code",
   "execution_count": 62,
   "metadata": {
    "ExecuteTime": {
     "end_time": "2020-01-12T20:40:21.044274Z",
     "start_time": "2020-01-12T20:39:20.372298Z"
    }
   },
   "outputs": [
    {
     "name": "stdout",
     "output_type": "stream",
     "text": [
      "Results on the DUP1 probe set for the LDA projection of the FERET gallery set:\n",
      "L1: 35.6\n",
      "L2: 29.78\n",
      "COS: 32.55\n"
     ]
    }
   ],
   "source": [
    "print(\"Results on the DUP1 probe set for the LDA projection of the FERET gallery set:\")\n",
    "print(\"L1: \" + str(results(1, knn_lda_l1, Xd1_lda, yd1)))\n",
    "print(\"L2: \" + str(results(1, knn_lda_l2, Xd1_lda, yd1)))\n",
    "print(\"COS: \" + str(results(1, knn_lda_cos, Xd1_lda, yd1)))"
   ]
  },
  {
   "cell_type": "markdown",
   "metadata": {},
   "source": [
    "##### DUP2 probe set"
   ]
  },
  {
   "cell_type": "code",
   "execution_count": 63,
   "metadata": {
    "ExecuteTime": {
     "end_time": "2020-01-12T20:40:40.976377Z",
     "start_time": "2020-01-12T20:40:21.048007Z"
    }
   },
   "outputs": [
    {
     "name": "stdout",
     "output_type": "stream",
     "text": [
      "Results on the DUP2 probe set for the PCA projection of the FERET gallery set:\n",
      "L1: 20.94\n",
      "L2: 19.23\n",
      "COS: 23.93\n"
     ]
    }
   ],
   "source": [
    "print(\"Results on the DUP2 probe set for the PCA projection of the FERET gallery set:\")\n",
    "print(\"L1: \" + str(results(1, knn_pca_l1, Xd2_pca, yd2)))\n",
    "print(\"L2: \" + str(results(1, knn_pca_l2, Xd2_pca, yd2)))\n",
    "print(\"COS: \" + str(results(1, knn_pca_cos, Xd2_pca, yd2)))"
   ]
  },
  {
   "cell_type": "code",
   "execution_count": 64,
   "metadata": {
    "ExecuteTime": {
     "end_time": "2020-01-12T20:41:02.380820Z",
     "start_time": "2020-01-12T20:40:40.980446Z"
    }
   },
   "outputs": [
    {
     "name": "stdout",
     "output_type": "stream",
     "text": [
      "Results on the DUP2 probe set for the ICA1 projection of the FERET gallery set:\n",
      "L1: 16.67\n",
      "L2: 15.38\n",
      "COS: 37.61\n"
     ]
    }
   ],
   "source": [
    "print(\"Results on the DUP2 probe set for the ICA1 projection of the FERET gallery set:\")\n",
    "print(\"L1: \" + str(results(1, knn_ica1_l1, Xd2_ica1, yd2)))\n",
    "print(\"L2: \" + str(results(1, knn_ica1_l2, Xd2_ica1, yd2)))\n",
    "print(\"COS: \" + str(results(1, knn_ica1_cos, Xd2_ica1, yd2)))"
   ]
  },
  {
   "cell_type": "code",
   "execution_count": 65,
   "metadata": {
    "ExecuteTime": {
     "end_time": "2020-01-12T20:41:23.851098Z",
     "start_time": "2020-01-12T20:41:02.384417Z"
    }
   },
   "outputs": [
    {
     "name": "stdout",
     "output_type": "stream",
     "text": [
      "Results on the DUP2 probe set for the ICA1 projection of the FERET gallery set:\n",
      "L1: 12.39\n",
      "L2: 14.96\n",
      "COS: 36.75\n"
     ]
    }
   ],
   "source": [
    "print(\"Results on the DUP2 probe set for the ICA1 projection of the FERET gallery set:\")\n",
    "print(\"L1: \" + str(results(1, knn_ica2_l1, Xd2_ica2, yd2)))\n",
    "print(\"L2: \" + str(results(1, knn_ica2_l2, Xd2_ica2, yd2)))\n",
    "print(\"COS: \" + str(results(1, knn_ica2_cos, Xd2_ica2, yd2)))"
   ]
  },
  {
   "cell_type": "code",
   "execution_count": 66,
   "metadata": {
    "ExecuteTime": {
     "end_time": "2020-01-12T20:41:44.147951Z",
     "start_time": "2020-01-12T20:41:23.855164Z"
    }
   },
   "outputs": [
    {
     "name": "stdout",
     "output_type": "stream",
     "text": [
      "Results on the DUP2 probe set for the LDA projection of the FERET gallery set:\n",
      "L1: 27.35\n",
      "L2: 19.23\n",
      "COS: 23.93\n"
     ]
    }
   ],
   "source": [
    "print(\"Results on the DUP2 probe set for the LDA projection of the FERET gallery set:\")\n",
    "print(\"L1: \" + str(results(1, knn_lda_l1, Xd2_lda, yd2)))\n",
    "print(\"L2: \" + str(results(1, knn_lda_l2, Xd2_lda, yd2)))\n",
    "print(\"COS: \" + str(results(1, knn_lda_cos, Xd2_lda, yd2)))"
   ]
  },
  {
   "cell_type": "markdown",
   "metadata": {},
   "source": [
    "#### Fairness-aware data"
   ]
  },
  {
   "cell_type": "markdown",
   "metadata": {},
   "source": [
    "##### FB probe set"
   ]
  },
  {
   "cell_type": "code",
   "execution_count": 67,
   "metadata": {
    "ExecuteTime": {
     "end_time": "2020-01-12T20:43:21.301261Z",
     "start_time": "2020-01-12T20:41:44.151857Z"
    }
   },
   "outputs": [
    {
     "name": "stdout",
     "output_type": "stream",
     "text": [
      "Results on the FB probe set for the PCA projection of the FERET gallery set:\n",
      "L1: 72.13\n",
      "L2: 72.8\n",
      "COS: 75.48\n"
     ]
    }
   ],
   "source": [
    "print(\"Results on the FB probe set for the PCA projection of the FERET gallery set:\")\n",
    "print(\"L1: \" + str(results(1, knn_pcaf_l1, Xfb_pcaf, yfb)))\n",
    "print(\"L2: \" + str(results(1, knn_pcaf_l2, Xfb_pcaf, yfb)))\n",
    "print(\"COS: \" + str(results(1, knn_pcaf_cos, Xfb_pcaf, yfb)))"
   ]
  },
  {
   "cell_type": "code",
   "execution_count": 68,
   "metadata": {
    "ExecuteTime": {
     "end_time": "2020-01-12T20:45:08.402690Z",
     "start_time": "2020-01-12T20:43:21.319947Z"
    }
   },
   "outputs": [
    {
     "name": "stdout",
     "output_type": "stream",
     "text": [
      "Results on the FB probe set for the ICA1 projection of the FERET gallery set:\n",
      "L1: 60.42\n",
      "L2: 61.51\n",
      "COS: 74.73\n"
     ]
    }
   ],
   "source": [
    "print(\"Results on the FB probe set for the ICA1 projection of the FERET gallery set:\")\n",
    "print(\"L1: \" + str(results(1, knn_ica1f_l1, Xfb_ica1f, yfb)))\n",
    "print(\"L2: \" + str(results(1, knn_ica1f_l2, Xfb_ica1f, yfb)))\n",
    "print(\"COS: \" + str(results(1, knn_ica1f_cos, Xfb_ica1f, yfb)))"
   ]
  },
  {
   "cell_type": "code",
   "execution_count": 69,
   "metadata": {
    "ExecuteTime": {
     "end_time": "2020-01-12T20:46:57.507872Z",
     "start_time": "2020-01-12T20:45:08.412414Z"
    }
   },
   "outputs": [
    {
     "name": "stdout",
     "output_type": "stream",
     "text": [
      "Results on the FB probe set for the ICA2 projection of the FERET gallery set:\n",
      "L1: 58.74\n",
      "L2: 60.75\n",
      "COS: 74.56\n"
     ]
    }
   ],
   "source": [
    "print(\"Results on the FB probe set for the ICA2 projection of the FERET gallery set:\")\n",
    "print(\"L1: \" + str(results(1, knn_ica2f_l1, Xfb_ica2f, yfb)))\n",
    "print(\"L2: \" + str(results(1, knn_ica2f_l2, Xfb_ica2f, yfb)))\n",
    "print(\"COS: \" + str(results(1, knn_ica2f_cos, Xfb_ica2f, yfb)))"
   ]
  },
  {
   "cell_type": "code",
   "execution_count": 70,
   "metadata": {
    "ExecuteTime": {
     "end_time": "2020-01-12T20:48:35.317073Z",
     "start_time": "2020-01-12T20:46:57.512057Z"
    }
   },
   "outputs": [
    {
     "name": "stdout",
     "output_type": "stream",
     "text": [
      "Results on the FB probe set for the LDA projection of the FERET gallery set:\n",
      "L1: 79.0\n",
      "L2: 72.8\n",
      "COS: 75.48\n"
     ]
    }
   ],
   "source": [
    "print(\"Results on the FB probe set for the LDA projection of the FERET gallery set:\")\n",
    "print(\"L1: \" + str(results(1, knn_ldaf_l1, Xfb_ldaf, yfb)))\n",
    "print(\"L2: \" + str(results(1, knn_ldaf_l2, Xfb_ldaf, yfb)))\n",
    "print(\"COS: \" + str(results(1, knn_ldaf_cos, Xfb_ldaf, yfb)))"
   ]
  },
  {
   "cell_type": "markdown",
   "metadata": {},
   "source": [
    "##### FC probe set"
   ]
  },
  {
   "cell_type": "code",
   "execution_count": 71,
   "metadata": {
    "ExecuteTime": {
     "end_time": "2020-01-12T20:48:52.519081Z",
     "start_time": "2020-01-12T20:48:35.322114Z"
    }
   },
   "outputs": [
    {
     "name": "stdout",
     "output_type": "stream",
     "text": [
      "Results on the FC probe set for the PCA projection of the FERET gallery set:\n",
      "L1: 67.01\n",
      "L2: 53.09\n",
      "COS: 47.42\n"
     ]
    }
   ],
   "source": [
    "print(\"Results on the FC probe set for the PCA projection of the FERET gallery set:\")\n",
    "print(\"L1: \" + str(results(1, knn_pcaf_l1, Xfc_pcaf, yfc)))\n",
    "print(\"L2: \" + str(results(1, knn_pcaf_l2, Xfc_pcaf, yfc)))\n",
    "print(\"COS: \" + str(results(1, knn_pcaf_cos, Xfc_pcaf, yfc)))"
   ]
  },
  {
   "cell_type": "code",
   "execution_count": 72,
   "metadata": {
    "ExecuteTime": {
     "end_time": "2020-01-12T20:49:10.501649Z",
     "start_time": "2020-01-12T20:48:52.523996Z"
    }
   },
   "outputs": [
    {
     "name": "stdout",
     "output_type": "stream",
     "text": [
      "Results on the FC probe set for the ICA1 projection of the FERET gallery set:\n",
      "L1: 60.82\n",
      "L2: 61.34\n",
      "COS: 70.62\n"
     ]
    }
   ],
   "source": [
    "print(\"Results on the FC probe set for the ICA1 projection of the FERET gallery set:\")\n",
    "print(\"L1: \" + str(results(1, knn_ica1f_l1, Xfc_ica1f, yfc)))\n",
    "print(\"L2: \" + str(results(1, knn_ica1f_l2, Xfc_ica1f, yfc)))\n",
    "print(\"COS: \" + str(results(1, knn_ica1f_cos, Xfc_ica1f, yfc)))"
   ]
  },
  {
   "cell_type": "code",
   "execution_count": 73,
   "metadata": {
    "ExecuteTime": {
     "end_time": "2020-01-12T20:49:28.270628Z",
     "start_time": "2020-01-12T20:49:10.505407Z"
    }
   },
   "outputs": [
    {
     "name": "stdout",
     "output_type": "stream",
     "text": [
      "Results on the FC probe set for the ICA2 projection of the FERET gallery set:\n",
      "L1: 59.79\n",
      "L2: 60.82\n",
      "COS: 70.1\n"
     ]
    }
   ],
   "source": [
    "print(\"Results on the FC probe set for the ICA2 projection of the FERET gallery set:\")\n",
    "print(\"L1: \" + str(results(1, knn_ica2f_l1, Xfc_ica2f, yfc)))\n",
    "print(\"L2: \" + str(results(1, knn_ica2f_l2, Xfc_ica2f, yfc)))\n",
    "print(\"COS: \" + str(results(1, knn_ica2f_cos, Xfc_ica2f, yfc)))"
   ]
  },
  {
   "cell_type": "code",
   "execution_count": 74,
   "metadata": {
    "ExecuteTime": {
     "end_time": "2020-01-12T20:49:45.561936Z",
     "start_time": "2020-01-12T20:49:28.275614Z"
    }
   },
   "outputs": [
    {
     "name": "stdout",
     "output_type": "stream",
     "text": [
      "Results on the FC probe set for the LDA projection of the FERET gallery set:\n",
      "L1: 60.31\n",
      "L2: 53.09\n",
      "COS: 47.42\n"
     ]
    }
   ],
   "source": [
    "print(\"Results on the FC probe set for the LDA projection of the FERET gallery set:\")\n",
    "print(\"L1: \" + str(results(1, knn_ldaf_l1, Xfc_ldaf, yfc)))\n",
    "print(\"L2: \" + str(results(1, knn_ldaf_l2, Xfc_ldaf, yfc)))\n",
    "print(\"COS: \" + str(results(1, knn_ldaf_cos, Xfc_ldaf, yfc)))"
   ]
  },
  {
   "cell_type": "markdown",
   "metadata": {},
   "source": [
    "##### DUP1 probe set"
   ]
  },
  {
   "cell_type": "code",
   "execution_count": 75,
   "metadata": {
    "ExecuteTime": {
     "end_time": "2020-01-12T20:50:45.916161Z",
     "start_time": "2020-01-12T20:49:45.565652Z"
    }
   },
   "outputs": [
    {
     "name": "stdout",
     "output_type": "stream",
     "text": [
      "Results on the DUP1 probe set for the PCA projection of the FERET gallery set:\n",
      "L1: 32.69\n",
      "L2: 28.81\n",
      "COS: 30.75\n"
     ]
    }
   ],
   "source": [
    "print(\"Results on the DUP1 probe set for the PCA projection of the FERET gallery set:\")\n",
    "print(\"L1: \" + str(results(1, knn_pcaf_l1, Xd1_pcaf, yd1)))\n",
    "print(\"L2: \" + str(results(1, knn_pcaf_l2, Xd1_pcaf, yd1)))\n",
    "print(\"COS: \" + str(results(1, knn_pcaf_cos, Xd1_pcaf, yd1)))"
   ]
  },
  {
   "cell_type": "code",
   "execution_count": 76,
   "metadata": {
    "ExecuteTime": {
     "end_time": "2020-01-12T20:51:51.553181Z",
     "start_time": "2020-01-12T20:50:45.919356Z"
    }
   },
   "outputs": [
    {
     "name": "stdout",
     "output_type": "stream",
     "text": [
      "Results on the DUP1 probe set for the ICA1 projection of the FERET gallery set:\n",
      "L1: 29.09\n",
      "L2: 30.47\n",
      "COS: 42.38\n"
     ]
    }
   ],
   "source": [
    "print(\"Results on the DUP1 probe set for the ICA1 projection of the FERET gallery set:\")\n",
    "print(\"L1: \" + str(results(1, knn_ica1f_l1, Xd1_ica1f, yd1)))\n",
    "print(\"L2: \" + str(results(1, knn_ica1f_l2, Xd1_ica1f, yd1)))\n",
    "print(\"COS: \" + str(results(1, knn_ica1f_cos, Xd1_ica1f, yd1)))"
   ]
  },
  {
   "cell_type": "code",
   "execution_count": 77,
   "metadata": {
    "ExecuteTime": {
     "end_time": "2020-01-12T20:52:57.238327Z",
     "start_time": "2020-01-12T20:51:51.556855Z"
    }
   },
   "outputs": [
    {
     "name": "stdout",
     "output_type": "stream",
     "text": [
      "Results on the DUP1 probe set for the ICA1 projection of the FERET gallery set:\n",
      "L1: 28.12\n",
      "L2: 29.92\n",
      "COS: 41.97\n"
     ]
    }
   ],
   "source": [
    "print(\"Results on the DUP1 probe set for the ICA1 projection of the FERET gallery set:\")\n",
    "print(\"L1: \" + str(results(1, knn_ica2f_l1, Xd1_ica2f, yd1)))\n",
    "print(\"L2: \" + str(results(1, knn_ica2f_l2, Xd1_ica2f, yd1)))\n",
    "print(\"COS: \" + str(results(1, knn_ica2f_cos, Xd1_ica2f, yd1)))"
   ]
  },
  {
   "cell_type": "code",
   "execution_count": 78,
   "metadata": {
    "ExecuteTime": {
     "end_time": "2020-01-12T20:53:58.702503Z",
     "start_time": "2020-01-12T20:52:57.242207Z"
    }
   },
   "outputs": [
    {
     "name": "stdout",
     "output_type": "stream",
     "text": [
      "Results on the DUP1 probe set for the LDA projection of the FERET gallery set:\n",
      "L1: 32.55\n",
      "L2: 28.81\n",
      "COS: 30.75\n"
     ]
    }
   ],
   "source": [
    "print(\"Results on the DUP1 probe set for the LDA projection of the FERET gallery set:\")\n",
    "print(\"L1: \" + str(results(1, knn_ldaf_l1, Xd1_ldaf, yd1)))\n",
    "print(\"L2: \" + str(results(1, knn_ldaf_l2, Xd1_ldaf, yd1)))\n",
    "print(\"COS: \" + str(results(1, knn_ldaf_cos, Xd1_ldaf, yd1)))"
   ]
  },
  {
   "cell_type": "markdown",
   "metadata": {},
   "source": [
    "##### DUP2 probe set"
   ]
  },
  {
   "cell_type": "code",
   "execution_count": 79,
   "metadata": {
    "ExecuteTime": {
     "end_time": "2020-01-12T20:54:18.931157Z",
     "start_time": "2020-01-12T20:53:58.706455Z"
    }
   },
   "outputs": [
    {
     "name": "stdout",
     "output_type": "stream",
     "text": [
      "Results on the DUP2 probe set for the PCA projection of the FERET gallery set:\n",
      "L1: 22.65\n",
      "L2: 19.23\n",
      "COS: 22.65\n"
     ]
    }
   ],
   "source": [
    "print(\"Results on the DUP2 probe set for the PCA projection of the FERET gallery set:\")\n",
    "print(\"L1: \" + str(results(1, knn_pcaf_l1, Xd2_pcaf, yd2)))\n",
    "print(\"L2: \" + str(results(1, knn_pcaf_l2, Xd2_pcaf, yd2)))\n",
    "print(\"COS: \" + str(results(1, knn_pcaf_cos, Xd2_pcaf, yd2)))"
   ]
  },
  {
   "cell_type": "code",
   "execution_count": 80,
   "metadata": {
    "ExecuteTime": {
     "end_time": "2020-01-12T20:54:40.465527Z",
     "start_time": "2020-01-12T20:54:18.935315Z"
    }
   },
   "outputs": [
    {
     "name": "stdout",
     "output_type": "stream",
     "text": [
      "Results on the DUP2 probe set for the ICA1 projection of the FERET gallery set:\n",
      "L1: 18.38\n",
      "L2: 19.23\n",
      "COS: 39.32\n"
     ]
    }
   ],
   "source": [
    "print(\"Results on the DUP2 probe set for the ICA1 projection of the FERET gallery set:\")\n",
    "print(\"L1: \" + str(results(1, knn_ica1f_l1, Xd2_ica1f, yd2)))\n",
    "print(\"L2: \" + str(results(1, knn_ica1f_l2, Xd2_ica1f, yd2)))\n",
    "print(\"COS: \" + str(results(1, knn_ica1f_cos, Xd2_ica1f, yd2)))"
   ]
  },
  {
   "cell_type": "code",
   "execution_count": 81,
   "metadata": {
    "ExecuteTime": {
     "end_time": "2020-01-12T20:55:01.728628Z",
     "start_time": "2020-01-12T20:54:40.468383Z"
    }
   },
   "outputs": [
    {
     "name": "stdout",
     "output_type": "stream",
     "text": [
      "Results on the DUP2 probe set for the ICA1 projection of the FERET gallery set:\n",
      "L1: 17.09\n",
      "L2: 19.66\n",
      "COS: 38.89\n"
     ]
    }
   ],
   "source": [
    "print(\"Results on the DUP2 probe set for the ICA1 projection of the FERET gallery set:\")\n",
    "print(\"L1: \" + str(results(1, knn_ica2f_l1, Xd2_ica2f, yd2)))\n",
    "print(\"L2: \" + str(results(1, knn_ica2f_l2, Xd2_ica2f, yd2)))\n",
    "print(\"COS: \" + str(results(1, knn_ica2f_cos, Xd2_ica2f, yd2)))"
   ]
  },
  {
   "cell_type": "code",
   "execution_count": 82,
   "metadata": {
    "ExecuteTime": {
     "end_time": "2020-01-12T20:55:22.404815Z",
     "start_time": "2020-01-12T20:55:01.732816Z"
    }
   },
   "outputs": [
    {
     "name": "stdout",
     "output_type": "stream",
     "text": [
      "Results on the DUP2 probe set for the LDA projection of the FERET gallery set:\n",
      "L1: 23.5\n",
      "L2: 19.23\n",
      "COS: 22.65\n"
     ]
    }
   ],
   "source": [
    "print(\"Results on the DUP2 probe set for the LDA projection of the FERET gallery set:\")\n",
    "print(\"L1: \" + str(results(1, knn_ldaf_l1, Xd2_ldaf, yd2)))\n",
    "print(\"L2: \" + str(results(1, knn_ldaf_l2, Xd2_ldaf, yd2)))\n",
    "print(\"COS: \" + str(results(1, knn_ldaf_cos, Xd2_ldaf, yd2)))"
   ]
  },
  {
   "cell_type": "markdown",
   "metadata": {},
   "source": [
    "## Fairness testing methodology"
   ]
  },
  {
   "cell_type": "code",
   "execution_count": 83,
   "metadata": {
    "ExecuteTime": {
     "end_time": "2020-01-12T20:55:22.847103Z",
     "start_time": "2020-01-12T20:55:22.408729Z"
    }
   },
   "outputs": [],
   "source": [
    "Xfg, yfg = read_images(\"fair_gallery\")\n",
    "Xfg = preprocess(Xfg)"
   ]
  },
  {
   "cell_type": "code",
   "execution_count": 84,
   "metadata": {
    "ExecuteTime": {
     "end_time": "2020-01-12T20:55:22.877540Z",
     "start_time": "2020-01-12T20:55:22.849413Z"
    }
   },
   "outputs": [],
   "source": [
    "# Fair gallery set projected on models trained on population-influenced data\n",
    "Xfg_pca = np.dot(Xfg, PC)\n",
    "Xfg_ica1 = np.dot(Xfg, np.transpose(IC1))\n",
    "Xfg_ica2 = np.dot(Xfg, np.transpose(IC2))\n",
    "Xfg_lda = np.dot(Xfg, np.transpose(LD))"
   ]
  },
  {
   "cell_type": "code",
   "execution_count": 85,
   "metadata": {
    "ExecuteTime": {
     "end_time": "2020-01-12T20:55:22.917863Z",
     "start_time": "2020-01-12T20:55:22.881345Z"
    }
   },
   "outputs": [],
   "source": [
    "# Fair gallery set projected on models trained on fairness-aware data\n",
    "Xfg_pcaf = np.dot(Xfg, PCf)\n",
    "Xfg_ica1f = np.dot(Xfg, np.transpose(IC1f))\n",
    "Xfg_ica2f = np.dot(Xfg, np.transpose(IC2f))\n",
    "Xfg_ldaf = np.dot(Xfg, np.transpose(LDf))"
   ]
  },
  {
   "cell_type": "code",
   "execution_count": 86,
   "metadata": {
    "ExecuteTime": {
     "end_time": "2020-01-12T20:55:23.052283Z",
     "start_time": "2020-01-12T20:55:22.920854Z"
    }
   },
   "outputs": [],
   "source": [
    "Xcg, ycg = read_images(\"caucasian_gallery\")\n",
    "Xcg = preprocess(Xcg)"
   ]
  },
  {
   "cell_type": "code",
   "execution_count": 87,
   "metadata": {
    "ExecuteTime": {
     "end_time": "2020-01-12T20:55:23.076908Z",
     "start_time": "2020-01-12T20:55:23.055822Z"
    }
   },
   "outputs": [],
   "source": [
    "# Caucasian gallery set projected on models trained on population-influenced data\n",
    "Xcg_pca = np.dot(Xcg, PC)\n",
    "Xcg_ica1 = np.dot(Xcg, np.transpose(IC1))\n",
    "Xcg_ica2 = np.dot(Xcg, np.transpose(IC2))\n",
    "Xcg_lda = np.dot(Xcg, np.transpose(LD))"
   ]
  },
  {
   "cell_type": "code",
   "execution_count": 88,
   "metadata": {
    "ExecuteTime": {
     "end_time": "2020-01-12T20:55:23.098971Z",
     "start_time": "2020-01-12T20:55:23.080496Z"
    }
   },
   "outputs": [],
   "source": [
    "# Caucasian gallery set projected on models trained on fairness-aware data\n",
    "Xcg_pcaf = np.dot(Xcg, PCf)\n",
    "Xcg_ica1f = np.dot(Xcg, np.transpose(IC1f))\n",
    "Xcg_ica2f = np.dot(Xcg, np.transpose(IC2f))\n",
    "Xcg_ldaf = np.dot(Xcg, np.transpose(LDf))"
   ]
  },
  {
   "cell_type": "code",
   "execution_count": 89,
   "metadata": {
    "ExecuteTime": {
     "end_time": "2020-01-12T20:55:23.210961Z",
     "start_time": "2020-01-12T20:55:23.102278Z"
    }
   },
   "outputs": [],
   "source": [
    "Xag, yag = read_images(\"african_gallery\")\n",
    "Xag = preprocess(Xag)"
   ]
  },
  {
   "cell_type": "code",
   "execution_count": 90,
   "metadata": {
    "ExecuteTime": {
     "end_time": "2020-01-12T20:55:23.234959Z",
     "start_time": "2020-01-12T20:55:23.214623Z"
    }
   },
   "outputs": [],
   "source": [
    "# African gallery set projected on models trained on population-influenced data\n",
    "Xag_pca = np.dot(Xag, PC)\n",
    "Xag_ica1 = np.dot(Xag, np.transpose(IC1))\n",
    "Xag_ica2 = np.dot(Xag, np.transpose(IC2))\n",
    "Xag_lda = np.dot(Xag, np.transpose(LD))"
   ]
  },
  {
   "cell_type": "code",
   "execution_count": 91,
   "metadata": {
    "ExecuteTime": {
     "end_time": "2020-01-12T20:55:23.257346Z",
     "start_time": "2020-01-12T20:55:23.238630Z"
    }
   },
   "outputs": [],
   "source": [
    "# African gallery set projected on models trained on fairness-aware data\n",
    "Xag_pcaf = np.dot(Xag, PCf)\n",
    "Xag_ica1f = np.dot(Xag, np.transpose(IC1f))\n",
    "Xag_ica2f = np.dot(Xag, np.transpose(IC2f))\n",
    "Xag_ldaf = np.dot(Xag, np.transpose(LDf))"
   ]
  },
  {
   "cell_type": "code",
   "execution_count": 92,
   "metadata": {
    "ExecuteTime": {
     "end_time": "2020-01-12T20:55:23.374759Z",
     "start_time": "2020-01-12T20:55:23.261252Z"
    }
   },
   "outputs": [],
   "source": [
    "Xseg, yseg = read_images(\"SE_asian_gallery\")\n",
    "Xseg = preprocess(Xseg)"
   ]
  },
  {
   "cell_type": "code",
   "execution_count": 93,
   "metadata": {
    "ExecuteTime": {
     "end_time": "2020-01-12T20:55:23.398776Z",
     "start_time": "2020-01-12T20:55:23.378605Z"
    }
   },
   "outputs": [],
   "source": [
    "# South-East Asian gallery set projected on models trained on population-influenced data\n",
    "Xseg_pca = np.dot(Xseg, PC)\n",
    "Xseg_ica1 = np.dot(Xseg, np.transpose(IC1))\n",
    "Xseg_ica2 = np.dot(Xseg, np.transpose(IC2))\n",
    "Xseg_lda = np.dot(Xseg, np.transpose(LD))"
   ]
  },
  {
   "cell_type": "code",
   "execution_count": 94,
   "metadata": {
    "ExecuteTime": {
     "end_time": "2020-01-12T20:55:23.420917Z",
     "start_time": "2020-01-12T20:55:23.402387Z"
    }
   },
   "outputs": [],
   "source": [
    "# South-East Asian gallery set projected on models trained on fairness-aware data\n",
    "Xseg_pcaf = np.dot(Xseg, PCf)\n",
    "Xseg_ica1f = np.dot(Xseg, np.transpose(IC1f))\n",
    "Xseg_ica2f = np.dot(Xseg, np.transpose(IC2f))\n",
    "Xseg_ldaf = np.dot(Xseg, np.transpose(LDf))"
   ]
  },
  {
   "cell_type": "code",
   "execution_count": 95,
   "metadata": {
    "ExecuteTime": {
     "end_time": "2020-01-12T20:55:23.876769Z",
     "start_time": "2020-01-12T20:55:23.425338Z"
    }
   },
   "outputs": [],
   "source": [
    "Xfp, yfp = read_images(\"fair_probe\")\n",
    "Xfp = preprocess(Xfp)"
   ]
  },
  {
   "cell_type": "code",
   "execution_count": 96,
   "metadata": {
    "ExecuteTime": {
     "end_time": "2020-01-12T20:55:23.912664Z",
     "start_time": "2020-01-12T20:55:23.879638Z"
    }
   },
   "outputs": [],
   "source": [
    "# Fair probe set projected on models trained on population-influenced data\n",
    "Xfp_pca = np.dot(Xfp, PC)\n",
    "Xfp_ica1 = np.dot(Xfp, np.transpose(IC1))\n",
    "Xfp_ica2 = np.dot(Xfp, np.transpose(IC2))\n",
    "Xfp_lda = np.dot(Xfp, np.transpose(LD))"
   ]
  },
  {
   "cell_type": "code",
   "execution_count": 97,
   "metadata": {
    "ExecuteTime": {
     "end_time": "2020-01-12T20:55:23.947543Z",
     "start_time": "2020-01-12T20:55:23.915634Z"
    }
   },
   "outputs": [],
   "source": [
    "# Fair probe set projected on models trained on fairness-aware data\n",
    "Xfp_pcaf = np.dot(Xfp, PCf)\n",
    "Xfp_ica1f = np.dot(Xfp, np.transpose(IC1f))\n",
    "Xfp_ica2f = np.dot(Xfp, np.transpose(IC2f))\n",
    "Xfp_ldaf = np.dot(Xfp, np.transpose(LDf))"
   ]
  },
  {
   "cell_type": "code",
   "execution_count": 98,
   "metadata": {
    "ExecuteTime": {
     "end_time": "2020-01-12T20:55:24.075765Z",
     "start_time": "2020-01-12T20:55:23.950341Z"
    }
   },
   "outputs": [],
   "source": [
    "Xcp, ycp = read_images(\"caucasian_probe\")\n",
    "Xcp = preprocess(Xcp)"
   ]
  },
  {
   "cell_type": "code",
   "execution_count": 99,
   "metadata": {
    "ExecuteTime": {
     "end_time": "2020-01-12T20:55:24.099835Z",
     "start_time": "2020-01-12T20:55:24.078695Z"
    }
   },
   "outputs": [],
   "source": [
    "# Caucasian probe set projected on models trained on population-influenced data\n",
    "Xcp_pca = np.dot(Xcp, PC)\n",
    "Xcp_ica1 = np.dot(Xcp, np.transpose(IC1))\n",
    "Xcp_ica2 = np.dot(Xcp, np.transpose(IC2))\n",
    "Xcp_lda = np.dot(Xcp, np.transpose(LD))"
   ]
  },
  {
   "cell_type": "code",
   "execution_count": 100,
   "metadata": {
    "ExecuteTime": {
     "end_time": "2020-01-12T20:55:24.126747Z",
     "start_time": "2020-01-12T20:55:24.102587Z"
    }
   },
   "outputs": [],
   "source": [
    "# Caucasian probe set projected on models trained on fairness-aware data\n",
    "Xcp_pcaf = np.dot(Xcp, PCf)\n",
    "Xcp_ica1f = np.dot(Xcp, np.transpose(IC1f))\n",
    "Xcp_ica2f = np.dot(Xcp, np.transpose(IC2f))\n",
    "Xcp_ldaf = np.dot(Xcp, np.transpose(LDf))"
   ]
  },
  {
   "cell_type": "code",
   "execution_count": 101,
   "metadata": {
    "ExecuteTime": {
     "end_time": "2020-01-12T20:55:24.256312Z",
     "start_time": "2020-01-12T20:55:24.129693Z"
    }
   },
   "outputs": [],
   "source": [
    "Xap, yap = read_images(\"african_probe\")\n",
    "Xap = preprocess(Xap)"
   ]
  },
  {
   "cell_type": "code",
   "execution_count": 102,
   "metadata": {
    "ExecuteTime": {
     "end_time": "2020-01-12T20:55:24.280743Z",
     "start_time": "2020-01-12T20:55:24.259114Z"
    }
   },
   "outputs": [],
   "source": [
    "# African probe set projected on models trained on population-influenced data\n",
    "Xap_pca = np.dot(Xap, PC)\n",
    "Xap_ica1 = np.dot(Xap, np.transpose(IC1))\n",
    "Xap_ica2 = np.dot(Xap, np.transpose(IC2))\n",
    "Xap_lda = np.dot(Xap, np.transpose(LD))"
   ]
  },
  {
   "cell_type": "code",
   "execution_count": 103,
   "metadata": {
    "ExecuteTime": {
     "end_time": "2020-01-12T20:55:24.302778Z",
     "start_time": "2020-01-12T20:55:24.283474Z"
    }
   },
   "outputs": [],
   "source": [
    "# African probe set projected on models trained on fairness-aware data\n",
    "Xap_pcaf = np.dot(Xap, PCf)\n",
    "Xap_ica1f = np.dot(Xap, np.transpose(IC1f))\n",
    "Xap_ica2f = np.dot(Xap, np.transpose(IC2f))\n",
    "Xap_ldaf = np.dot(Xap, np.transpose(LDf))"
   ]
  },
  {
   "cell_type": "code",
   "execution_count": 104,
   "metadata": {
    "ExecuteTime": {
     "end_time": "2020-01-12T20:55:24.439771Z",
     "start_time": "2020-01-12T20:55:24.305698Z"
    }
   },
   "outputs": [],
   "source": [
    "Xsep, ysep = read_images(\"SE_asian_probe\")\n",
    "Xsep = preprocess(Xsep)"
   ]
  },
  {
   "cell_type": "code",
   "execution_count": 105,
   "metadata": {
    "ExecuteTime": {
     "end_time": "2020-01-12T20:55:24.463701Z",
     "start_time": "2020-01-12T20:55:24.442563Z"
    }
   },
   "outputs": [],
   "source": [
    "# South-East Asian probe set projected on models trained on population-influenced data\n",
    "Xsep_pca = np.dot(Xsep, PC)\n",
    "Xsep_ica1 = np.dot(Xsep, np.transpose(IC1))\n",
    "Xsep_ica2 = np.dot(Xsep, np.transpose(IC2))\n",
    "Xsep_lda = np.dot(Xsep, np.transpose(LD))"
   ]
  },
  {
   "cell_type": "code",
   "execution_count": 106,
   "metadata": {
    "ExecuteTime": {
     "end_time": "2020-01-12T20:55:24.486450Z",
     "start_time": "2020-01-12T20:55:24.466627Z"
    }
   },
   "outputs": [],
   "source": [
    "# South-East Asian probe set projected on models trained on fairness-aware data\n",
    "Xsep_pcaf = np.dot(Xsep, PCf)\n",
    "Xsep_ica1f = np.dot(Xsep, np.transpose(IC1f))\n",
    "Xsep_ica2f = np.dot(Xsep, np.transpose(IC2f))\n",
    "Xsep_ldaf = np.dot(Xsep, np.transpose(LDf))"
   ]
  },
  {
   "cell_type": "markdown",
   "metadata": {},
   "source": [
    "### kNN training"
   ]
  },
  {
   "cell_type": "code",
   "execution_count": 107,
   "metadata": {
    "ExecuteTime": {
     "end_time": "2020-01-12T20:55:24.609533Z",
     "start_time": "2020-01-12T20:55:24.489244Z"
    }
   },
   "outputs": [],
   "source": [
    "# kNN trained on the PCA projection of the fair gallery set trained on population-influenced data\n",
    "knn_pca_l1_ = kNN(Xfg_pca, yfg, cityblock, 100)\n",
    "knn_pca_l2_ = kNN(Xfg_pca, yfg, euclidean, 100)\n",
    "knn_pca_cos_ = kNN(Xfg_pca, yfg, cosine, 100)"
   ]
  },
  {
   "cell_type": "code",
   "execution_count": 108,
   "metadata": {
    "ExecuteTime": {
     "end_time": "2020-01-12T20:55:24.636267Z",
     "start_time": "2020-01-12T20:55:24.613402Z"
    }
   },
   "outputs": [],
   "source": [
    "# kNN trained on the PCA projection of the Caucasian gallery set trained on population-influenced data\n",
    "knn_pca_l1_c = kNN(Xcg_pca, ycg, cityblock, 100)\n",
    "knn_pca_l2_c = kNN(Xcg_pca, ycg, euclidean, 100)\n",
    "knn_pca_cos_c = kNN(Xcg_pca, ycg, cosine, 100)"
   ]
  },
  {
   "cell_type": "code",
   "execution_count": 109,
   "metadata": {
    "ExecuteTime": {
     "end_time": "2020-01-12T20:55:24.661346Z",
     "start_time": "2020-01-12T20:55:24.639809Z"
    }
   },
   "outputs": [],
   "source": [
    "# kNN trained on the PCA projection of the African gallery set trained on population-influenced data\n",
    "knn_pca_l1_a = kNN(Xag_pca, yag, cityblock, 100)\n",
    "knn_pca_l2_a = kNN(Xag_pca, yag, euclidean, 100)\n",
    "knn_pca_cos_a = kNN(Xag_pca, yag, cosine, 100)"
   ]
  },
  {
   "cell_type": "code",
   "execution_count": 110,
   "metadata": {
    "ExecuteTime": {
     "end_time": "2020-01-12T20:55:24.684268Z",
     "start_time": "2020-01-12T20:55:24.664020Z"
    }
   },
   "outputs": [],
   "source": [
    "# kNN trained on the PCA projection of the South-East Asian gallery set trained on population-influenced data\n",
    "knn_pca_l1_se = kNN(Xseg_pca, yseg, cityblock, 100)\n",
    "knn_pca_l2_se = kNN(Xseg_pca, yseg, euclidean, 100)\n",
    "knn_pca_cos_se = kNN(Xseg_pca, yseg, cosine, 100)"
   ]
  },
  {
   "cell_type": "code",
   "execution_count": 111,
   "metadata": {
    "ExecuteTime": {
     "end_time": "2020-01-12T20:55:24.787845Z",
     "start_time": "2020-01-12T20:55:24.687058Z"
    }
   },
   "outputs": [],
   "source": [
    "# kNN trained on the ICA1 projection of the fair gallery set trained on population-influenced data\n",
    "knn_ica1_l1_ = kNN(Xfg_ica1, yfg, cityblock, 100)\n",
    "knn_ica1_l2_ = kNN(Xfg_ica1, yfg, euclidean, 100)\n",
    "knn_ica1_cos_ = kNN(Xfg_ica1, yfg, cosine, 100)"
   ]
  },
  {
   "cell_type": "code",
   "execution_count": 112,
   "metadata": {
    "ExecuteTime": {
     "end_time": "2020-01-12T20:55:24.810054Z",
     "start_time": "2020-01-12T20:55:24.790547Z"
    }
   },
   "outputs": [],
   "source": [
    "# kNN trained on the ICA1 projection of the Caucasian gallery set trained on population-influenced data\n",
    "knn_ica1_l1_c = kNN(Xcg_ica1, ycg, cityblock, 100)\n",
    "knn_ica1_l2_c = kNN(Xcg_ica1, ycg, euclidean, 100)\n",
    "knn_ica1_cos_c = kNN(Xcg_ica1, ycg, cosine, 100)"
   ]
  },
  {
   "cell_type": "code",
   "execution_count": 113,
   "metadata": {
    "ExecuteTime": {
     "end_time": "2020-01-12T20:55:24.834895Z",
     "start_time": "2020-01-12T20:55:24.813457Z"
    }
   },
   "outputs": [],
   "source": [
    "# kNN trained on the ICA1 projection of the African gallery set trained on population-influenced data\n",
    "knn_ica1_l1_a = kNN(Xag_ica1, yag, cityblock, 100)\n",
    "knn_ica1_l2_a = kNN(Xag_ica1, yag, euclidean, 100)\n",
    "knn_ica1_cos_a = kNN(Xag_ica1, yag, cosine, 100)"
   ]
  },
  {
   "cell_type": "code",
   "execution_count": 114,
   "metadata": {
    "ExecuteTime": {
     "end_time": "2020-01-12T20:55:24.857445Z",
     "start_time": "2020-01-12T20:55:24.837840Z"
    }
   },
   "outputs": [],
   "source": [
    "# kNN trained on the ICA1 projection of the South-East Asian gallery set trained on population-influenced data\n",
    "knn_ica1_l1_se = kNN(Xseg_ica1, yseg, cityblock, 100)\n",
    "knn_ica1_l2_se = kNN(Xseg_ica1, yseg, euclidean, 100)\n",
    "knn_ica1_cos_se = kNN(Xseg_ica1, yseg, cosine, 100)"
   ]
  },
  {
   "cell_type": "code",
   "execution_count": 115,
   "metadata": {
    "ExecuteTime": {
     "end_time": "2020-01-12T20:55:24.954084Z",
     "start_time": "2020-01-12T20:55:24.860425Z"
    }
   },
   "outputs": [],
   "source": [
    "# kNN trained on the ICA2 projection of the fair gallery set trained on population-influenced data\n",
    "knn_ica2_l1_ = kNN(Xfg_ica2, yfg, cityblock, 100)\n",
    "knn_ica2_l2_ = kNN(Xfg_ica2, yfg, euclidean, 100)\n",
    "knn_ica2_cos_ = kNN(Xfg_ica2, yfg, cosine, 100)"
   ]
  },
  {
   "cell_type": "code",
   "execution_count": 116,
   "metadata": {
    "ExecuteTime": {
     "end_time": "2020-01-12T20:55:24.977437Z",
     "start_time": "2020-01-12T20:55:24.956930Z"
    }
   },
   "outputs": [],
   "source": [
    "# kNN trained on the ICA2 projection of the Caucasian gallery set trained on population-influenced data\n",
    "knn_ica2_l1_c = kNN(Xcg_ica2, ycg, cityblock, 100)\n",
    "knn_ica2_l2_c = kNN(Xcg_ica2, ycg, euclidean, 100)\n",
    "knn_ica2_cos_c = kNN(Xcg_ica2, ycg, cosine, 100)"
   ]
  },
  {
   "cell_type": "code",
   "execution_count": 117,
   "metadata": {
    "ExecuteTime": {
     "end_time": "2020-01-12T20:55:25.001894Z",
     "start_time": "2020-01-12T20:55:24.980708Z"
    }
   },
   "outputs": [],
   "source": [
    "# kNN trained on the ICA2 projection of the African gallery set trained on population-influenced data\n",
    "knn_ica2_l1_a = kNN(Xag_ica2, yag, cityblock, 100)\n",
    "knn_ica2_l2_a = kNN(Xag_ica2, yag, euclidean, 100)\n",
    "knn_ica2_cos_a = kNN(Xag_ica2, yag, cosine, 100)"
   ]
  },
  {
   "cell_type": "code",
   "execution_count": 118,
   "metadata": {
    "ExecuteTime": {
     "end_time": "2020-01-12T20:55:25.025957Z",
     "start_time": "2020-01-12T20:55:25.004690Z"
    }
   },
   "outputs": [],
   "source": [
    "# kNN trained on the ICA2 projection of the South-East Asian gallery set trained on population-influenced data\n",
    "knn_ica2_l1_se = kNN(Xseg_ica2, yseg, cityblock, 100)\n",
    "knn_ica2_l2_se = kNN(Xseg_ica2, yseg, euclidean, 100)\n",
    "knn_ica2_cos_se = kNN(Xseg_ica2, yseg, cosine, 100)"
   ]
  },
  {
   "cell_type": "code",
   "execution_count": 119,
   "metadata": {
    "ExecuteTime": {
     "end_time": "2020-01-12T20:55:25.121089Z",
     "start_time": "2020-01-12T20:55:25.029007Z"
    }
   },
   "outputs": [],
   "source": [
    "# kNN trained on the LDA projection of the fair gallery set trained on population-influenced data\n",
    "knn_lda_l1_ = kNN(Xfg_lda, yfg, cityblock, 100)\n",
    "knn_lda_l2_ = kNN(Xfg_lda, yfg, euclidean, 100)\n",
    "knn_lda_cos_ = kNN(Xfg_lda, yfg, cosine, 100)"
   ]
  },
  {
   "cell_type": "code",
   "execution_count": 120,
   "metadata": {
    "ExecuteTime": {
     "end_time": "2020-01-12T20:55:25.147765Z",
     "start_time": "2020-01-12T20:55:25.123763Z"
    }
   },
   "outputs": [],
   "source": [
    "# kNN trained on the LDA projection of the Caucasian gallery set trained on population-influenced data\n",
    "knn_lda_l1_c = kNN(Xcg_lda, ycg, cityblock, 100)\n",
    "knn_lda_l2_c = kNN(Xcg_lda, ycg, euclidean, 100)\n",
    "knn_lda_cos_c = kNN(Xcg_lda, ycg, cosine, 100)"
   ]
  },
  {
   "cell_type": "code",
   "execution_count": 121,
   "metadata": {
    "ExecuteTime": {
     "end_time": "2020-01-12T20:55:25.173370Z",
     "start_time": "2020-01-12T20:55:25.151000Z"
    }
   },
   "outputs": [],
   "source": [
    "# kNN trained on the LDA projection of the African gallery set trained on population-influenced data\n",
    "knn_lda_l1_a = kNN(Xag_lda, yag, cityblock, 100)\n",
    "knn_lda_l2_a = kNN(Xag_lda, yag, euclidean, 100)\n",
    "knn_lda_cos_a = kNN(Xag_lda, yag, cosine, 100)"
   ]
  },
  {
   "cell_type": "code",
   "execution_count": 122,
   "metadata": {
    "ExecuteTime": {
     "end_time": "2020-01-12T20:55:25.197714Z",
     "start_time": "2020-01-12T20:55:25.176100Z"
    }
   },
   "outputs": [],
   "source": [
    "# kNN trained on the LDA projection of the South-East Asian gallery set trained on population-influenced data\n",
    "knn_lda_l1_se = kNN(Xseg_lda, yseg, cityblock, 100)\n",
    "knn_lda_l2_se = kNN(Xseg_lda, yseg, euclidean, 100)\n",
    "knn_lda_cos_se = kNN(Xseg_lda, yseg, cosine, 100)"
   ]
  },
  {
   "cell_type": "code",
   "execution_count": 123,
   "metadata": {
    "ExecuteTime": {
     "end_time": "2020-01-12T20:55:25.277850Z",
     "start_time": "2020-01-12T20:55:25.200329Z"
    }
   },
   "outputs": [],
   "source": [
    "# kNN trained on the PCA projection of the fair gallery set trained on fairness-aware data\n",
    "knn_pcaf_l1_ = kNN(Xfg_pcaf, yfg, cityblock, 100)\n",
    "knn_pcaf_l2_ = kNN(Xfg_pcaf, yfg, euclidean, 100)\n",
    "knn_pcaf_cos_ = kNN(Xfg_pcaf, yfg, cosine, 100)"
   ]
  },
  {
   "cell_type": "code",
   "execution_count": 124,
   "metadata": {
    "ExecuteTime": {
     "end_time": "2020-01-12T20:55:25.301939Z",
     "start_time": "2020-01-12T20:55:25.283511Z"
    }
   },
   "outputs": [],
   "source": [
    "# kNN trained on the PCA projection of the Caucasian gallery set trained on fairness-aware data\n",
    "knn_pcaf_l1_c = kNN(Xcg_pcaf, ycg, cityblock, 100)\n",
    "knn_pcaf_l2_c = kNN(Xcg_pcaf, ycg, euclidean, 100)\n",
    "knn_pcaf_cos_c = kNN(Xcg_pcaf, ycg, cosine, 100)"
   ]
  },
  {
   "cell_type": "code",
   "execution_count": 125,
   "metadata": {
    "ExecuteTime": {
     "end_time": "2020-01-12T20:55:25.328116Z",
     "start_time": "2020-01-12T20:55:25.306009Z"
    }
   },
   "outputs": [],
   "source": [
    "# kNN trained on the PCA projection of the African gallery set trained on fairness-aware data\n",
    "knn_pcaf_l1_a = kNN(Xag_pcaf, yag, cityblock, 100)\n",
    "knn_pcaf_l2_a = kNN(Xag_pcaf, yag, euclidean, 100)\n",
    "knn_pcaf_cos_a = kNN(Xag_pcaf, yag, cosine, 100)"
   ]
  },
  {
   "cell_type": "code",
   "execution_count": 126,
   "metadata": {
    "ExecuteTime": {
     "end_time": "2020-01-12T20:55:25.352003Z",
     "start_time": "2020-01-12T20:55:25.330746Z"
    }
   },
   "outputs": [],
   "source": [
    "# kNN trained on the PCA projection of the South-East Asian gallery set trained on fairness-aware data\n",
    "knn_pcaf_l1_se = kNN(Xseg_pcaf, yseg, cityblock, 100)\n",
    "knn_pcaf_l2_se = kNN(Xseg_pcaf, yseg, euclidean, 100)\n",
    "knn_pcaf_cos_se = kNN(Xseg_pcaf, yseg, cosine, 100)"
   ]
  },
  {
   "cell_type": "code",
   "execution_count": 127,
   "metadata": {
    "ExecuteTime": {
     "end_time": "2020-01-12T20:55:25.448218Z",
     "start_time": "2020-01-12T20:55:25.354649Z"
    }
   },
   "outputs": [],
   "source": [
    "# kNN trained on the ICA1 projection of the fair gallery set trained on fairness-aware data\n",
    "knn_ica1f_l1_ = kNN(Xfg_ica1f, yfg, cityblock, 100)\n",
    "knn_ica1f_l2_ = kNN(Xfg_ica1f, yfg, euclidean, 100)\n",
    "knn_ica1f_cos_ = kNN(Xfg_ica1f, yfg, cosine, 100)"
   ]
  },
  {
   "cell_type": "code",
   "execution_count": 128,
   "metadata": {
    "ExecuteTime": {
     "end_time": "2020-01-12T20:55:25.472019Z",
     "start_time": "2020-01-12T20:55:25.450725Z"
    }
   },
   "outputs": [],
   "source": [
    "# kNN trained on the ICA1 projection of the Caucasian gallery set trained on fairness-aware data\n",
    "knn_ica1f_l1_c = kNN(Xcg_ica1f, ycg, cityblock, 100)\n",
    "knn_ica1f_l2_c = kNN(Xcg_ica1f, ycg, euclidean, 100)\n",
    "knn_ica1f_cos_c = kNN(Xcg_ica1f, ycg, cosine, 100)"
   ]
  },
  {
   "cell_type": "code",
   "execution_count": 129,
   "metadata": {
    "ExecuteTime": {
     "end_time": "2020-01-12T20:55:25.495964Z",
     "start_time": "2020-01-12T20:55:25.475710Z"
    }
   },
   "outputs": [],
   "source": [
    "# kNN trained on the ICA1 projection of the African gallery set trained on fairness-aware data\n",
    "knn_ica1f_l1_a = kNN(Xag_ica1f, yag, cityblock, 100)\n",
    "knn_ica1f_l2_a = kNN(Xag_ica1f, yag, euclidean, 100)\n",
    "knn_ica1f_cos_a = kNN(Xag_ica1f, yag, cosine, 100)"
   ]
  },
  {
   "cell_type": "code",
   "execution_count": 130,
   "metadata": {
    "ExecuteTime": {
     "end_time": "2020-01-12T20:55:25.521862Z",
     "start_time": "2020-01-12T20:55:25.498780Z"
    }
   },
   "outputs": [],
   "source": [
    "# kNN trained on the ICA1 projection of the South-East Asian gallery set trained on fairness-aware data\n",
    "knn_ica1f_l1_se = kNN(Xseg_ica1f, yseg, cityblock, 100)\n",
    "knn_ica1f_l2_se = kNN(Xseg_ica1f, yseg, euclidean, 100)\n",
    "knn_ica1f_cos_se = kNN(Xseg_ica1f, yseg, cosine, 100)"
   ]
  },
  {
   "cell_type": "code",
   "execution_count": 131,
   "metadata": {
    "ExecuteTime": {
     "end_time": "2020-01-12T20:55:25.613630Z",
     "start_time": "2020-01-12T20:55:25.524485Z"
    }
   },
   "outputs": [],
   "source": [
    "# kNN trained on the ICA2 projection of the fair gallery set trained on fairness-aware data\n",
    "knn_ica2f_l1_ = kNN(Xfg_ica2f, yfg, cityblock, 100)\n",
    "knn_ica2f_l2_ = kNN(Xfg_ica2f, yfg, euclidean, 100)\n",
    "knn_ica2f_cos_ = kNN(Xfg_ica2f, yfg, cosine, 100)"
   ]
  },
  {
   "cell_type": "code",
   "execution_count": 132,
   "metadata": {
    "ExecuteTime": {
     "end_time": "2020-01-12T20:55:25.638804Z",
     "start_time": "2020-01-12T20:55:25.616854Z"
    }
   },
   "outputs": [],
   "source": [
    "# kNN trained on the ICA2 projection of the Caucasian gallery set trained on fairness-aware data\n",
    "knn_ica2f_l1_c = kNN(Xcg_ica2f, ycg, cityblock, 100)\n",
    "knn_ica2f_l2_c = kNN(Xcg_ica2f, ycg, euclidean, 100)\n",
    "knn_ica2f_cos_c = kNN(Xcg_ica2f, ycg, cosine, 100)"
   ]
  },
  {
   "cell_type": "code",
   "execution_count": 133,
   "metadata": {
    "ExecuteTime": {
     "end_time": "2020-01-12T20:55:25.662989Z",
     "start_time": "2020-01-12T20:55:25.641408Z"
    }
   },
   "outputs": [],
   "source": [
    "# kNN trained on the ICA2 projection of the African gallery set trained on fairness-aware data\n",
    "knn_ica2f_l1_a = kNN(Xag_ica2f, yag, cityblock, 100)\n",
    "knn_ica2f_l2_a = kNN(Xag_ica2f, yag, euclidean, 100)\n",
    "knn_ica2f_cos_a = kNN(Xag_ica2f, yag, cosine, 100)"
   ]
  },
  {
   "cell_type": "code",
   "execution_count": 134,
   "metadata": {
    "ExecuteTime": {
     "end_time": "2020-01-12T20:55:25.687925Z",
     "start_time": "2020-01-12T20:55:25.665688Z"
    }
   },
   "outputs": [],
   "source": [
    "# kNN trained on the ICA2 projection of the South-East Asian gallery set trained on fairness-aware data\n",
    "knn_ica2f_l1_se = kNN(Xseg_ica2f, yseg, cityblock, 100)\n",
    "knn_ica2f_l2_se = kNN(Xseg_ica2f, yseg, euclidean, 100)\n",
    "knn_ica2f_cos_se = kNN(Xseg_ica2f, yseg, cosine, 100)"
   ]
  },
  {
   "cell_type": "code",
   "execution_count": 135,
   "metadata": {
    "ExecuteTime": {
     "end_time": "2020-01-12T20:55:25.774580Z",
     "start_time": "2020-01-12T20:55:25.691331Z"
    }
   },
   "outputs": [],
   "source": [
    "# kNN trained on the LDA projection of the fair gallery set trained on fairness-aware data\n",
    "knn_ldaf_l1_ = kNN(Xfg_ldaf, yfg, cityblock, 100)\n",
    "knn_ldaf_l2_ = kNN(Xfg_ldaf, yfg, euclidean, 100)\n",
    "knn_ldaf_cos_ = kNN(Xfg_ldaf, yfg, cosine, 100)"
   ]
  },
  {
   "cell_type": "code",
   "execution_count": 136,
   "metadata": {
    "ExecuteTime": {
     "end_time": "2020-01-12T20:55:25.796693Z",
     "start_time": "2020-01-12T20:55:25.777290Z"
    }
   },
   "outputs": [],
   "source": [
    "# kNN trained on the LDA projection of the Caucasian gallery set trained on fairness-aware data\n",
    "knn_ldaf_l1_c = kNN(Xcg_ldaf, ycg, cityblock, 100)\n",
    "knn_ldaf_l2_c = kNN(Xcg_ldaf, ycg, euclidean, 100)\n",
    "knn_ldaf_cos_c = kNN(Xcg_ldaf, ycg, cosine, 100)"
   ]
  },
  {
   "cell_type": "code",
   "execution_count": 137,
   "metadata": {
    "ExecuteTime": {
     "end_time": "2020-01-12T20:55:25.824446Z",
     "start_time": "2020-01-12T20:55:25.800254Z"
    }
   },
   "outputs": [],
   "source": [
    "# kNN trained on the LDA projection of the African gallery set trained on fairness-aware data\n",
    "knn_ldaf_l1_a = kNN(Xag_ldaf, yag, cityblock, 100)\n",
    "knn_ldaf_l2_a = kNN(Xag_ldaf, yag, euclidean, 100)\n",
    "knn_ldaf_cos_a = kNN(Xag_ldaf, yag, cosine, 100)"
   ]
  },
  {
   "cell_type": "code",
   "execution_count": 138,
   "metadata": {
    "ExecuteTime": {
     "end_time": "2020-01-12T20:55:25.850513Z",
     "start_time": "2020-01-12T20:55:25.828214Z"
    }
   },
   "outputs": [],
   "source": [
    "# kNN trained on the LDA projection of the South-East Asian gallery set trained on fairness-aware data\n",
    "knn_ldaf_l1_se = kNN(Xseg_ldaf, yseg, cityblock, 100)\n",
    "knn_ldaf_l2_se = kNN(Xseg_ldaf, yseg, euclidean, 100)\n",
    "knn_ldaf_cos_se = kNN(Xseg_ldaf, yseg, cosine, 100)"
   ]
  },
  {
   "cell_type": "markdown",
   "metadata": {
    "ExecuteTime": {
     "end_time": "2020-01-09T14:58:54.054820Z",
     "start_time": "2020-01-09T14:58:54.045850Z"
    }
   },
   "source": [
    "### Fairness testing"
   ]
  },
  {
   "cell_type": "markdown",
   "metadata": {},
   "source": [
    "#### Population-influenced data"
   ]
  },
  {
   "cell_type": "code",
   "execution_count": 139,
   "metadata": {
    "ExecuteTime": {
     "end_time": "2020-01-12T20:55:27.789382Z",
     "start_time": "2020-01-12T20:55:25.853113Z"
    }
   },
   "outputs": [
    {
     "name": "stdout",
     "output_type": "stream",
     "text": [
      "Results on the fair probe set for the PCA projection of the fair gallery set:\n",
      "L1: 77.33\n",
      "L2: 76.67\n",
      "COS: 78.0\n"
     ]
    }
   ],
   "source": [
    "print(\"Results on the fair probe set for the PCA projection of the fair gallery set:\")\n",
    "print(\"L1: \" + str(results(1, knn_pca_l1_, Xfp_pca, yfp)))\n",
    "print(\"L2: \" + str(results(1, knn_pca_l2_, Xfp_pca, yfp)))\n",
    "print(\"COS: \" + str(results(1, knn_pca_cos_, Xfp_pca, yfp)))"
   ]
  },
  {
   "cell_type": "code",
   "execution_count": 140,
   "metadata": {
    "ExecuteTime": {
     "end_time": "2020-01-12T20:55:29.666399Z",
     "start_time": "2020-01-12T20:55:27.792776Z"
    }
   },
   "outputs": [
    {
     "name": "stdout",
     "output_type": "stream",
     "text": [
      "Results on the fair probe set for the ICA1 projection of the fair gallery set:\n",
      "L1: 68.67\n",
      "L2: 69.33\n",
      "COS: 80.67\n"
     ]
    }
   ],
   "source": [
    "print(\"Results on the fair probe set for the ICA1 projection of the fair gallery set:\")\n",
    "print(\"L1: \" + str(results(1, knn_ica1_l1_, Xfp_ica1, yfp)))\n",
    "print(\"L2: \" + str(results(1, knn_ica1_l2_, Xfp_ica1, yfp)))\n",
    "print(\"COS: \" + str(results(1, knn_ica1_cos_, Xfp_ica1, yfp)))"
   ]
  },
  {
   "cell_type": "code",
   "execution_count": 141,
   "metadata": {
    "ExecuteTime": {
     "end_time": "2020-01-12T20:55:31.531755Z",
     "start_time": "2020-01-12T20:55:29.670401Z"
    }
   },
   "outputs": [
    {
     "name": "stdout",
     "output_type": "stream",
     "text": [
      "Results on the fair probe set for the ICA2 projection of the fair gallery set:\n",
      "L1: 68.67\n",
      "L2: 69.33\n",
      "COS: 80.67\n"
     ]
    }
   ],
   "source": [
    "print(\"Results on the fair probe set for the ICA2 projection of the fair gallery set:\")\n",
    "print(\"L1: \" + str(results(1, knn_ica2_l1_, Xfp_ica2, yfp)))\n",
    "print(\"L2: \" + str(results(1, knn_ica2_l2_, Xfp_ica2, yfp)))\n",
    "print(\"COS: \" + str(results(1, knn_ica2_cos_, Xfp_ica2, yfp)))"
   ]
  },
  {
   "cell_type": "code",
   "execution_count": 142,
   "metadata": {
    "ExecuteTime": {
     "end_time": "2020-01-12T20:55:33.295934Z",
     "start_time": "2020-01-12T20:55:31.535516Z"
    }
   },
   "outputs": [
    {
     "name": "stdout",
     "output_type": "stream",
     "text": [
      "Results on the fair probe set for the LDA projection of the fair gallery set:\n",
      "L1: 81.33\n",
      "L2: 76.67\n",
      "COS: 77.33\n"
     ]
    }
   ],
   "source": [
    "print(\"Results on the fair probe set for the LDA projection of the fair gallery set:\")\n",
    "print(\"L1: \" + str(results(1, knn_lda_l1_, Xfp_lda, yfp)))\n",
    "print(\"L2: \" + str(results(1, knn_lda_l2_, Xfp_lda, yfp)))\n",
    "print(\"COS: \" + str(results(1, knn_lda_cos_, Xfp_lda, yfp)))"
   ]
  },
  {
   "cell_type": "markdown",
   "metadata": {},
   "source": [
    "##### Results for individuals of Caucasian descent"
   ]
  },
  {
   "cell_type": "code",
   "execution_count": 143,
   "metadata": {
    "ExecuteTime": {
     "end_time": "2020-01-12T20:55:33.557798Z",
     "start_time": "2020-01-12T20:55:33.299286Z"
    }
   },
   "outputs": [
    {
     "name": "stdout",
     "output_type": "stream",
     "text": [
      "Results on the Caucasian probe set for the PCA projection of the Caucasian gallery set:\n",
      "L1: 92.0\n",
      "L2: 92.0\n",
      "COS: 92.0\n"
     ]
    }
   ],
   "source": [
    "print(\"Results on the Caucasian probe set for the PCA projection of the Caucasian gallery set:\")\n",
    "print(\"L1: \" + str(results(1, knn_pca_l1_c, Xcp_pca, ycp)))\n",
    "print(\"L2: \" + str(results(1, knn_pca_l2_c, Xcp_pca, ycp)))\n",
    "print(\"COS: \" + str(results(1, knn_pca_cos_c, Xcp_pca, ycp)))"
   ]
  },
  {
   "cell_type": "code",
   "execution_count": 144,
   "metadata": {
    "ExecuteTime": {
     "end_time": "2020-01-12T20:55:33.804687Z",
     "start_time": "2020-01-12T20:55:33.562242Z"
    }
   },
   "outputs": [
    {
     "name": "stdout",
     "output_type": "stream",
     "text": [
      "Results on the Caucasian probe set for the ICA1 projection of the Caucasian gallery set:\n",
      "L1: 88.0\n",
      "L2: 88.0\n",
      "COS: 92.0\n"
     ]
    }
   ],
   "source": [
    "print(\"Results on the Caucasian probe set for the ICA1 projection of the Caucasian gallery set:\")\n",
    "print(\"L1: \" + str(results(1, knn_ica1_l1_c, Xcp_ica1, ycp)))\n",
    "print(\"L2: \" + str(results(1, knn_ica1_l2_c, Xcp_ica1, ycp)))\n",
    "print(\"COS: \" + str(results(1, knn_ica1_cos_c, Xcp_ica1, ycp)))"
   ]
  },
  {
   "cell_type": "code",
   "execution_count": 145,
   "metadata": {
    "ExecuteTime": {
     "end_time": "2020-01-12T20:55:34.068175Z",
     "start_time": "2020-01-12T20:55:33.811894Z"
    }
   },
   "outputs": [
    {
     "name": "stdout",
     "output_type": "stream",
     "text": [
      "Results on the Caucasian probe set for the ICA2 projection of the Caucasian gallery set:\n",
      "L1: 84.0\n",
      "L2: 88.0\n",
      "COS: 92.0\n"
     ]
    }
   ],
   "source": [
    "print(\"Results on the Caucasian probe set for the ICA2 projection of the Caucasian gallery set:\")\n",
    "print(\"L1: \" + str(results(1, knn_ica2_l1_c, Xcp_ica2, ycp)))\n",
    "print(\"L2: \" + str(results(1, knn_ica2_l2_c, Xcp_ica2, ycp)))\n",
    "print(\"COS: \" + str(results(1, knn_ica2_cos_c, Xcp_ica2, ycp)))"
   ]
  },
  {
   "cell_type": "code",
   "execution_count": 146,
   "metadata": {
    "ExecuteTime": {
     "end_time": "2020-01-12T20:55:34.325850Z",
     "start_time": "2020-01-12T20:55:34.072127Z"
    }
   },
   "outputs": [
    {
     "name": "stdout",
     "output_type": "stream",
     "text": [
      "Results on the Caucasian probe set for the LDA projection of the Caucasian gallery set:\n",
      "L1: 92.0\n",
      "L2: 92.0\n",
      "COS: 92.0\n"
     ]
    }
   ],
   "source": [
    "print(\"Results on the Caucasian probe set for the LDA projection of the Caucasian gallery set:\")\n",
    "print(\"L1: \" + str(results(1, knn_lda_l1_c, Xcp_lda, ycp)))\n",
    "print(\"L2: \" + str(results(1, knn_lda_l2_c, Xcp_lda, ycp)))\n",
    "print(\"COS: \" + str(results(1, knn_lda_cos_c, Xcp_lda, ycp)))"
   ]
  },
  {
   "cell_type": "markdown",
   "metadata": {},
   "source": [
    "##### Results for individuals of South-East Asian descent"
   ]
  },
  {
   "cell_type": "code",
   "execution_count": 147,
   "metadata": {
    "ExecuteTime": {
     "end_time": "2020-01-12T20:55:34.591656Z",
     "start_time": "2020-01-12T20:55:34.330653Z"
    }
   },
   "outputs": [
    {
     "name": "stdout",
     "output_type": "stream",
     "text": [
      "Results on the South-East Asian probe set for the PCA projection of the South-East Asian gallery set:\n",
      "L1: 78.0\n",
      "L2: 76.0\n",
      "COS: 76.0\n"
     ]
    }
   ],
   "source": [
    "print(\"Results on the South-East Asian probe set for the PCA projection of the South-East Asian gallery set:\")\n",
    "print(\"L1: \" + str(results(1, knn_pca_l1_se, Xsep_pca, ysep)))\n",
    "print(\"L2: \" + str(results(1, knn_pca_l2_se, Xsep_pca, ysep)))\n",
    "print(\"COS: \" + str(results(1, knn_pca_cos_se, Xsep_pca, ysep)))"
   ]
  },
  {
   "cell_type": "code",
   "execution_count": 148,
   "metadata": {
    "ExecuteTime": {
     "end_time": "2020-01-12T20:55:34.874362Z",
     "start_time": "2020-01-12T20:55:34.595638Z"
    }
   },
   "outputs": [
    {
     "name": "stdout",
     "output_type": "stream",
     "text": [
      "Results on the South-East Asian probe set for the ICA1 projection of the South-East Asian gallery set:\n",
      "L1: 66.0\n",
      "L2: 66.0\n",
      "COS: 80.0\n"
     ]
    }
   ],
   "source": [
    "print(\"Results on the South-East Asian probe set for the ICA1 projection of the South-East Asian gallery set:\")\n",
    "print(\"L1: \" + str(results(1, knn_ica1_l1_se, Xsep_ica1, ysep)))\n",
    "print(\"L2: \" + str(results(1, knn_ica1_l2_se, Xsep_ica1, ysep)))\n",
    "print(\"COS: \" + str(results(1, knn_ica1_cos_se, Xsep_ica1, ysep)))"
   ]
  },
  {
   "cell_type": "code",
   "execution_count": 149,
   "metadata": {
    "ExecuteTime": {
     "end_time": "2020-01-12T20:55:35.130175Z",
     "start_time": "2020-01-12T20:55:34.878133Z"
    }
   },
   "outputs": [
    {
     "name": "stdout",
     "output_type": "stream",
     "text": [
      "Results on the South-East Asian probe set for the ICA2 projection of the South-East Asian gallery set:\n",
      "L1: 66.0\n",
      "L2: 66.0\n",
      "COS: 80.0\n"
     ]
    }
   ],
   "source": [
    "print(\"Results on the South-East Asian probe set for the ICA2 projection of the South-East Asian gallery set:\")\n",
    "print(\"L1: \" + str(results(1, knn_ica2_l1_se, Xsep_ica2, ysep)))\n",
    "print(\"L2: \" + str(results(1, knn_ica2_l2_se, Xsep_ica2, ysep)))\n",
    "print(\"COS: \" + str(results(1, knn_ica2_cos_se, Xsep_ica2, ysep)))"
   ]
  },
  {
   "cell_type": "code",
   "execution_count": 150,
   "metadata": {
    "ExecuteTime": {
     "end_time": "2020-01-12T20:55:35.389809Z",
     "start_time": "2020-01-12T20:55:35.134618Z"
    }
   },
   "outputs": [
    {
     "name": "stdout",
     "output_type": "stream",
     "text": [
      "Results on the South-East Asian probe set for the LDA projection of the South-East Asian gallery set:\n",
      "L1: 82.0\n",
      "L2: 76.0\n",
      "COS: 76.0\n"
     ]
    }
   ],
   "source": [
    "print(\"Results on the South-East Asian probe set for the LDA projection of the South-East Asian gallery set:\")\n",
    "print(\"L1: \" + str(results(1, knn_lda_l1_se, Xsep_lda, ysep)))\n",
    "print(\"L2: \" + str(results(1, knn_lda_l2_se, Xsep_lda, ysep)))\n",
    "print(\"COS: \" + str(results(1, knn_lda_cos_se, Xsep_lda, ysep)))"
   ]
  },
  {
   "cell_type": "markdown",
   "metadata": {},
   "source": [
    "##### Results for individuals of African descent"
   ]
  },
  {
   "cell_type": "code",
   "execution_count": 151,
   "metadata": {
    "ExecuteTime": {
     "end_time": "2020-01-12T20:55:35.653810Z",
     "start_time": "2020-01-12T20:55:35.394195Z"
    }
   },
   "outputs": [
    {
     "name": "stdout",
     "output_type": "stream",
     "text": [
      "Results on the African probe set for the PCA projection of the African gallery set:\n",
      "L1: 66.0\n",
      "L2: 62.0\n",
      "COS: 56.0\n"
     ]
    }
   ],
   "source": [
    "print(\"Results on the African probe set for the PCA projection of the African gallery set:\")\n",
    "print(\"L1: \" + str(results(1, knn_pca_l1_a, Xap_pca, yap)))\n",
    "print(\"L2: \" + str(results(1, knn_pca_l2_a, Xap_pca, yap)))\n",
    "print(\"COS: \" + str(results(1, knn_pca_cos_a, Xap_pca, yap)))"
   ]
  },
  {
   "cell_type": "code",
   "execution_count": 152,
   "metadata": {
    "ExecuteTime": {
     "end_time": "2020-01-12T20:55:35.908355Z",
     "start_time": "2020-01-12T20:55:35.657948Z"
    }
   },
   "outputs": [
    {
     "name": "stdout",
     "output_type": "stream",
     "text": [
      "Results on the African probe set for the ICA1 projection of the African gallery set:\n",
      "L1: 68.0\n",
      "L2: 66.0\n",
      "COS: 80.0\n"
     ]
    }
   ],
   "source": [
    "print(\"Results on the African probe set for the ICA1 projection of the African gallery set:\")\n",
    "print(\"L1: \" + str(results(1, knn_ica1_l1_a, Xap_ica1, yap)))\n",
    "print(\"L2: \" + str(results(1, knn_ica1_l2_a, Xap_ica1, yap)))\n",
    "print(\"COS: \" + str(results(1, knn_ica1_cos_a, Xap_ica1, yap)))"
   ]
  },
  {
   "cell_type": "code",
   "execution_count": 153,
   "metadata": {
    "ExecuteTime": {
     "end_time": "2020-01-12T20:55:36.178563Z",
     "start_time": "2020-01-12T20:55:35.913562Z"
    }
   },
   "outputs": [
    {
     "name": "stdout",
     "output_type": "stream",
     "text": [
      "Results on the African probe set for the ICA2 projection of the African gallery set:\n",
      "L1: 66.0\n",
      "L2: 66.0\n",
      "COS: 80.0\n"
     ]
    }
   ],
   "source": [
    "print(\"Results on the African probe set for the ICA2 projection of the African gallery set:\")\n",
    "print(\"L1: \" + str(results(1, knn_ica2_l1_a, Xap_ica2, yap)))\n",
    "print(\"L2: \" + str(results(1, knn_ica2_l2_a, Xap_ica2, yap)))\n",
    "print(\"COS: \" + str(results(1, knn_ica2_cos_a, Xap_ica2, yap)))"
   ]
  },
  {
   "cell_type": "code",
   "execution_count": 154,
   "metadata": {
    "ExecuteTime": {
     "end_time": "2020-01-12T20:55:36.418254Z",
     "start_time": "2020-01-12T20:55:36.182331Z"
    }
   },
   "outputs": [
    {
     "name": "stdout",
     "output_type": "stream",
     "text": [
      "Results on the African probe set for the LDA projection of the African gallery set:\n",
      "L1: 66.0\n",
      "L2: 62.0\n",
      "COS: 56.0\n"
     ]
    }
   ],
   "source": [
    "print(\"Results on the African probe set for the LDA projection of the African gallery set:\")\n",
    "print(\"L1: \" + str(results(1, knn_lda_l1_a, Xap_lda, yap)))\n",
    "print(\"L2: \" + str(results(1, knn_lda_l2_a, Xap_lda, yap)))\n",
    "print(\"COS: \" + str(results(1, knn_lda_cos_a, Xap_lda, yap)))"
   ]
  },
  {
   "cell_type": "markdown",
   "metadata": {
    "ExecuteTime": {
     "end_time": "2020-01-09T15:01:30.366125Z",
     "start_time": "2020-01-09T15:01:30.360576Z"
    }
   },
   "source": [
    "#### Fairness-aware data"
   ]
  },
  {
   "cell_type": "code",
   "execution_count": 155,
   "metadata": {
    "ExecuteTime": {
     "end_time": "2020-01-12T20:55:38.220906Z",
     "start_time": "2020-01-12T20:55:36.422377Z"
    }
   },
   "outputs": [
    {
     "name": "stdout",
     "output_type": "stream",
     "text": [
      "Results on the fair probe set for the PCA projection of the fair gallery set:\n",
      "L1: 79.33\n",
      "L2: 76.0\n",
      "COS: 78.0\n"
     ]
    }
   ],
   "source": [
    "print(\"Results on the fair probe set for the PCA projection of the fair gallery set:\")\n",
    "print(\"L1: \" + str(results(1, knn_pcaf_l1_, Xfp_pcaf, yfp)))\n",
    "print(\"L2: \" + str(results(1, knn_pcaf_l2_, Xfp_pcaf, yfp)))\n",
    "print(\"COS: \" + str(results(1, knn_pcaf_cos_, Xfp_pcaf, yfp)))"
   ]
  },
  {
   "cell_type": "code",
   "execution_count": 156,
   "metadata": {
    "ExecuteTime": {
     "end_time": "2020-01-12T20:55:40.078709Z",
     "start_time": "2020-01-12T20:55:38.224434Z"
    }
   },
   "outputs": [
    {
     "name": "stdout",
     "output_type": "stream",
     "text": [
      "Results on the fair probe set for the ICA1 projection of the fair gallery set:\n",
      "L1: 70.67\n",
      "L2: 69.33\n",
      "COS: 83.33\n"
     ]
    }
   ],
   "source": [
    "print(\"Results on the fair probe set for the ICA1 projection of the fair gallery set:\")\n",
    "print(\"L1: \" + str(results(1, knn_ica1f_l1_, Xfp_ica1f, yfp)))\n",
    "print(\"L2: \" + str(results(1, knn_ica1f_l2_, Xfp_ica1f, yfp)))\n",
    "print(\"COS: \" + str(results(1, knn_ica1f_cos_, Xfp_ica1f, yfp)))"
   ]
  },
  {
   "cell_type": "code",
   "execution_count": 157,
   "metadata": {
    "ExecuteTime": {
     "end_time": "2020-01-12T20:55:41.858242Z",
     "start_time": "2020-01-12T20:55:40.082233Z"
    }
   },
   "outputs": [
    {
     "name": "stdout",
     "output_type": "stream",
     "text": [
      "Results on the fair probe set for the ICA2 projection of the fair gallery set:\n",
      "L1: 71.33\n",
      "L2: 69.33\n",
      "COS: 83.33\n"
     ]
    }
   ],
   "source": [
    "print(\"Results on the fair probe set for the ICA2 projection of the fair gallery set:\")\n",
    "print(\"L1: \" + str(results(1, knn_ica2f_l1_, Xfp_ica2f, yfp)))\n",
    "print(\"L2: \" + str(results(1, knn_ica2f_l2_, Xfp_ica2f, yfp)))\n",
    "print(\"COS: \" + str(results(1, knn_ica2f_cos_, Xfp_ica2f, yfp)))"
   ]
  },
  {
   "cell_type": "code",
   "execution_count": 158,
   "metadata": {
    "ExecuteTime": {
     "end_time": "2020-01-12T20:55:43.588103Z",
     "start_time": "2020-01-12T20:55:41.861662Z"
    }
   },
   "outputs": [
    {
     "name": "stdout",
     "output_type": "stream",
     "text": [
      "Results on the fair probe set for the LDA projection of the fair gallery set:\n",
      "L1: 78.67\n",
      "L2: 76.0\n",
      "COS: 77.33\n"
     ]
    }
   ],
   "source": [
    "print(\"Results on the fair probe set for the LDA projection of the fair gallery set:\")\n",
    "print(\"L1: \" + str(results(1, knn_ldaf_l1_, Xfp_ldaf, yfp)))\n",
    "print(\"L2: \" + str(results(1, knn_ldaf_l2_, Xfp_ldaf, yfp)))\n",
    "print(\"COS: \" + str(results(1, knn_ldaf_cos_, Xfp_ldaf, yfp)))"
   ]
  },
  {
   "cell_type": "markdown",
   "metadata": {},
   "source": [
    "##### Results for individuals of Caucasian descent"
   ]
  },
  {
   "cell_type": "code",
   "execution_count": 159,
   "metadata": {
    "ExecuteTime": {
     "end_time": "2020-01-12T20:55:43.827925Z",
     "start_time": "2020-01-12T20:55:43.592022Z"
    }
   },
   "outputs": [
    {
     "name": "stdout",
     "output_type": "stream",
     "text": [
      "Results on the Caucasian probe set for the PCA projection of the Caucasian gallery set:\n",
      "L1: 92.0\n",
      "L2: 90.0\n",
      "COS: 92.0\n"
     ]
    }
   ],
   "source": [
    "print(\"Results on the Caucasian probe set for the PCA projection of the Caucasian gallery set:\")\n",
    "print(\"L1: \" + str(results(1, knn_pcaf_l1_c, Xcp_pcaf, ycp)))\n",
    "print(\"L2: \" + str(results(1, knn_pcaf_l2_c, Xcp_pcaf, ycp)))\n",
    "print(\"COS: \" + str(results(1, knn_pcaf_cos_c, Xcp_pcaf, ycp)))"
   ]
  },
  {
   "cell_type": "code",
   "execution_count": 160,
   "metadata": {
    "ExecuteTime": {
     "end_time": "2020-01-12T20:55:44.080762Z",
     "start_time": "2020-01-12T20:55:43.832131Z"
    }
   },
   "outputs": [
    {
     "name": "stdout",
     "output_type": "stream",
     "text": [
      "Results on the Caucasian probe set for the ICA1 projection of the Caucasian gallery set:\n",
      "L1: 90.0\n",
      "L2: 92.0\n",
      "COS: 96.0\n"
     ]
    }
   ],
   "source": [
    "print(\"Results on the Caucasian probe set for the ICA1 projection of the Caucasian gallery set:\")\n",
    "print(\"L1: \" + str(results(1, knn_ica1f_l1_c, Xcp_ica1f, ycp)))\n",
    "print(\"L2: \" + str(results(1, knn_ica1f_l2_c, Xcp_ica1f, ycp)))\n",
    "print(\"COS: \" + str(results(1, knn_ica1f_cos_c, Xcp_ica1f, ycp)))"
   ]
  },
  {
   "cell_type": "code",
   "execution_count": 161,
   "metadata": {
    "ExecuteTime": {
     "end_time": "2020-01-12T20:55:44.326901Z",
     "start_time": "2020-01-12T20:55:44.084531Z"
    }
   },
   "outputs": [
    {
     "name": "stdout",
     "output_type": "stream",
     "text": [
      "Results on the Caucasian probe set for the ICA2 projection of the Caucasian gallery set:\n",
      "L1: 92.0\n",
      "L2: 92.0\n",
      "COS: 96.0\n"
     ]
    }
   ],
   "source": [
    "print(\"Results on the Caucasian probe set for the ICA2 projection of the Caucasian gallery set:\")\n",
    "print(\"L1: \" + str(results(1, knn_ica2f_l1_c, Xcp_ica2f, ycp)))\n",
    "print(\"L2: \" + str(results(1, knn_ica2f_l2_c, Xcp_ica2f, ycp)))\n",
    "print(\"COS: \" + str(results(1, knn_ica2f_cos_c, Xcp_ica2f, ycp)))"
   ]
  },
  {
   "cell_type": "code",
   "execution_count": 162,
   "metadata": {
    "ExecuteTime": {
     "end_time": "2020-01-12T20:55:44.573037Z",
     "start_time": "2020-01-12T20:55:44.330542Z"
    }
   },
   "outputs": [
    {
     "name": "stdout",
     "output_type": "stream",
     "text": [
      "Results on the Caucasian probe set for the LDA projection of the Caucasian gallery set:\n",
      "L1: 92.0\n",
      "L2: 90.0\n",
      "COS: 92.0\n"
     ]
    }
   ],
   "source": [
    "print(\"Results on the Caucasian probe set for the LDA projection of the Caucasian gallery set:\")\n",
    "print(\"L1: \" + str(results(1, knn_ldaf_l1_c, Xcp_ldaf, ycp)))\n",
    "print(\"L2: \" + str(results(1, knn_ldaf_l2_c, Xcp_ldaf, ycp)))\n",
    "print(\"COS: \" + str(results(1, knn_ldaf_cos_c, Xcp_ldaf, ycp)))"
   ]
  },
  {
   "cell_type": "markdown",
   "metadata": {},
   "source": [
    "##### Results for individuals of South-East Asian descent"
   ]
  },
  {
   "cell_type": "code",
   "execution_count": 163,
   "metadata": {
    "ExecuteTime": {
     "end_time": "2020-01-12T20:55:44.824656Z",
     "start_time": "2020-01-12T20:55:44.577231Z"
    }
   },
   "outputs": [
    {
     "name": "stdout",
     "output_type": "stream",
     "text": [
      "Results on the South-East Asian probe set for the PCA projection of the South-East Asian gallery set:\n",
      "L1: 78.0\n",
      "L2: 78.0\n",
      "COS: 78.0\n"
     ]
    }
   ],
   "source": [
    "print(\"Results on the South-East Asian probe set for the PCA projection of the South-East Asian gallery set:\")\n",
    "print(\"L1: \" + str(results(1, knn_pcaf_l1_se, Xsep_pcaf, ysep)))\n",
    "print(\"L2: \" + str(results(1, knn_pcaf_l2_se, Xsep_pcaf, ysep)))\n",
    "print(\"COS: \" + str(results(1, knn_pcaf_cos_se, Xsep_pcaf, ysep)))"
   ]
  },
  {
   "cell_type": "code",
   "execution_count": 164,
   "metadata": {
    "ExecuteTime": {
     "end_time": "2020-01-12T20:55:45.061627Z",
     "start_time": "2020-01-12T20:55:44.828848Z"
    }
   },
   "outputs": [
    {
     "name": "stdout",
     "output_type": "stream",
     "text": [
      "Results on the South-East Asian probe set for the ICA1 projection of the South-East Asian gallery set:\n",
      "L1: 74.0\n",
      "L2: 78.0\n",
      "COS: 88.0\n"
     ]
    }
   ],
   "source": [
    "print(\"Results on the South-East Asian probe set for the ICA1 projection of the South-East Asian gallery set:\")\n",
    "print(\"L1: \" + str(results(1, knn_ica1f_l1_se, Xsep_ica1f, ysep)))\n",
    "print(\"L2: \" + str(results(1, knn_ica1f_l2_se, Xsep_ica1f, ysep)))\n",
    "print(\"COS: \" + str(results(1, knn_ica1f_cos_se, Xsep_ica1f, ysep)))"
   ]
  },
  {
   "cell_type": "code",
   "execution_count": 165,
   "metadata": {
    "ExecuteTime": {
     "end_time": "2020-01-12T20:55:45.309690Z",
     "start_time": "2020-01-12T20:55:45.066608Z"
    }
   },
   "outputs": [
    {
     "name": "stdout",
     "output_type": "stream",
     "text": [
      "Results on the South-East Asian probe set for the ICA2 projection of the South-East Asian gallery set:\n",
      "L1: 76.0\n",
      "L2: 78.0\n",
      "COS: 88.0\n"
     ]
    }
   ],
   "source": [
    "print(\"Results on the South-East Asian probe set for the ICA2 projection of the South-East Asian gallery set:\")\n",
    "print(\"L1: \" + str(results(1, knn_ica2f_l1_se, Xsep_ica2f, ysep)))\n",
    "print(\"L2: \" + str(results(1, knn_ica2f_l2_se, Xsep_ica2f, ysep)))\n",
    "print(\"COS: \" + str(results(1, knn_ica2f_cos_se, Xsep_ica2f, ysep)))"
   ]
  },
  {
   "cell_type": "code",
   "execution_count": 166,
   "metadata": {
    "ExecuteTime": {
     "end_time": "2020-01-12T20:55:45.549620Z",
     "start_time": "2020-01-12T20:55:45.313687Z"
    }
   },
   "outputs": [
    {
     "name": "stdout",
     "output_type": "stream",
     "text": [
      "Results on the South-East Asian probe set for the LDA projection of the South-East Asian gallery set:\n",
      "L1: 80.0\n",
      "L2: 78.0\n",
      "COS: 78.0\n"
     ]
    }
   ],
   "source": [
    "print(\"Results on the South-East Asian probe set for the LDA projection of the South-East Asian gallery set:\")\n",
    "print(\"L1: \" + str(results(1, knn_ldaf_l1_se, Xsep_ldaf, ysep)))\n",
    "print(\"L2: \" + str(results(1, knn_ldaf_l2_se, Xsep_ldaf, ysep)))\n",
    "print(\"COS: \" + str(results(1, knn_ldaf_cos_se, Xsep_ldaf, ysep)))"
   ]
  },
  {
   "cell_type": "markdown",
   "metadata": {},
   "source": [
    "##### Results for individuals of African descent"
   ]
  },
  {
   "cell_type": "code",
   "execution_count": 167,
   "metadata": {
    "ExecuteTime": {
     "end_time": "2020-01-12T20:55:45.797990Z",
     "start_time": "2020-01-12T20:55:45.553526Z"
    }
   },
   "outputs": [
    {
     "name": "stdout",
     "output_type": "stream",
     "text": [
      "Results on the African probe set for the PCA projection of the African gallery set:\n",
      "L1: 64.0\n",
      "L2: 60.0\n",
      "COS: 56.0\n"
     ]
    }
   ],
   "source": [
    "print(\"Results on the African probe set for the PCA projection of the African gallery set:\")\n",
    "print(\"L1: \" + str(results(1, knn_pcaf_l1_a, Xap_pcaf, yap)))\n",
    "print(\"L2: \" + str(results(1, knn_pcaf_l2_a, Xap_pcaf, yap)))\n",
    "print(\"COS: \" + str(results(1, knn_pcaf_cos_a, Xap_pcaf, yap)))"
   ]
  },
  {
   "cell_type": "code",
   "execution_count": 168,
   "metadata": {
    "ExecuteTime": {
     "end_time": "2020-01-12T20:55:46.032426Z",
     "start_time": "2020-01-12T20:55:45.802137Z"
    }
   },
   "outputs": [
    {
     "name": "stdout",
     "output_type": "stream",
     "text": [
      "Results on the African probe set for the ICA1 projection of the African gallery set:\n",
      "L1: 70.0\n",
      "L2: 66.0\n",
      "COS: 76.0\n"
     ]
    }
   ],
   "source": [
    "print(\"Results on the African probe set for the ICA1 projection of the African gallery set:\")\n",
    "print(\"L1: \" + str(results(1, knn_ica1f_l1_a, Xap_ica1f, yap)))\n",
    "print(\"L2: \" + str(results(1, knn_ica1f_l2_a, Xap_ica1f, yap)))\n",
    "print(\"COS: \" + str(results(1, knn_ica1f_cos_a, Xap_ica1f, yap)))"
   ]
  },
  {
   "cell_type": "code",
   "execution_count": 169,
   "metadata": {
    "ExecuteTime": {
     "end_time": "2020-01-12T20:55:46.270375Z",
     "start_time": "2020-01-12T20:55:46.037684Z"
    }
   },
   "outputs": [
    {
     "name": "stdout",
     "output_type": "stream",
     "text": [
      "Results on the African probe set for the ICA2 projection of the African gallery set:\n",
      "L1: 64.0\n",
      "L2: 64.0\n",
      "COS: 74.0\n"
     ]
    }
   ],
   "source": [
    "print(\"Results on the African probe set for the ICA2 projection of the African gallery set:\")\n",
    "print(\"L1: \" + str(results(1, knn_ica2f_l1_a, Xap_ica2f, yap)))\n",
    "print(\"L2: \" + str(results(1, knn_ica2f_l2_a, Xap_ica2f, yap)))\n",
    "print(\"COS: \" + str(results(1, knn_ica2f_cos_a, Xap_ica2f, yap)))"
   ]
  },
  {
   "cell_type": "code",
   "execution_count": 171,
   "metadata": {
    "ExecuteTime": {
     "end_time": "2020-01-12T20:59:40.513703Z",
     "start_time": "2020-01-12T20:59:40.247799Z"
    }
   },
   "outputs": [
    {
     "name": "stdout",
     "output_type": "stream",
     "text": [
      "Results on the African probe set for the LDA projection of the African gallery set:\n",
      "L1: 62.0\n",
      "L2: 60.0\n",
      "COS: 56.0\n"
     ]
    }
   ],
   "source": [
    "print(\"Results on the African probe set for the LDA projection of the African gallery set:\")\n",
    "print(\"L1: \" + str(results(1, knn_ldaf_l1_a, Xap_ldaf, yap)))\n",
    "print(\"L2: \" + str(results(1, knn_ldaf_l2_a, Xap_ldaf, yap)))\n",
    "print(\"COS: \" + str(results(1, knn_ldaf_cos_a, Xap_ldaf, yap)))"
   ]
  },
  {
   "cell_type": "code",
   "execution_count": null,
   "metadata": {},
   "outputs": [],
   "source": []
  }
 ],
 "metadata": {
  "kernelspec": {
   "display_name": "Python 3",
   "language": "python",
   "name": "python3"
  },
  "language_info": {
   "codemirror_mode": {
    "name": "ipython",
    "version": 3
   },
   "file_extension": ".py",
   "mimetype": "text/x-python",
   "name": "python",
   "nbconvert_exporter": "python",
   "pygments_lexer": "ipython3",
   "version": "3.7.4"
  },
  "latex_envs": {
   "LaTeX_envs_menu_present": true,
   "autoclose": false,
   "autocomplete": true,
   "bibliofile": "biblio.bib",
   "cite_by": "apalike",
   "current_citInitial": 1,
   "eqLabelWithNumbers": true,
   "eqNumInitial": 1,
   "hotkeys": {
    "equation": "Ctrl-E",
    "itemize": "Ctrl-I"
   },
   "labels_anchors": false,
   "latex_user_defs": false,
   "report_style_numbering": false,
   "user_envs_cfg": false
  },
  "toc": {
   "base_numbering": 1,
   "nav_menu": {},
   "number_sections": true,
   "sideBar": true,
   "skip_h1_title": false,
   "title_cell": "Table of Contents",
   "title_sidebar": "Contents",
   "toc_cell": false,
   "toc_position": {},
   "toc_section_display": true,
   "toc_window_display": false
  }
 },
 "nbformat": 4,
 "nbformat_minor": 2
}
