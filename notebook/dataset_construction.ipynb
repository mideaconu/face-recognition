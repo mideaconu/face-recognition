{
 "cells": [
  {
   "cell_type": "code",
   "execution_count": 1,
   "metadata": {
    "ExecuteTime": {
     "end_time": "2020-01-06T19:06:11.096665Z",
     "start_time": "2020-01-06T19:06:10.397785Z"
    }
   },
   "outputs": [],
   "source": [
    "import os\n",
    "from collections import defaultdict\n",
    "\n",
    "import glob\n",
    "import random\n",
    "import numpy as np"
   ]
  },
  {
   "cell_type": "code",
   "execution_count": 13,
   "metadata": {
    "ExecuteTime": {
     "end_time": "2020-01-06T20:16:49.554369Z",
     "start_time": "2020-01-06T20:16:49.518203Z"
    }
   },
   "outputs": [],
   "source": [
    "# Remove images that are not frontal\n",
    "for image in glob.glob(\"data/fairness_aware_training_set/cropped/*\"):\n",
    "    if image[46:48] not in [\"fa\", \"fb\", \"ba\", \"bj\", \"bk\"]:\n",
    "        os.remove(os.getcwd() + \"/\" + image)"
   ]
  },
  {
   "cell_type": "code",
   "execution_count": 47,
   "metadata": {
    "ExecuteTime": {
     "end_time": "2019-11-09T18:57:05.194936Z",
     "start_time": "2019-11-09T18:57:05.177814Z"
    }
   },
   "outputs": [],
   "source": [
    "images = defaultdict(list)\n",
    "for image in glob.glob(\"data/training_set/cropped/*\"):\n",
    "    images[image[26:31]].append(image)"
   ]
  },
  {
   "cell_type": "code",
   "execution_count": 40,
   "metadata": {
    "ExecuteTime": {
     "end_time": "2019-11-09T18:53:37.890838Z",
     "start_time": "2019-11-09T18:53:37.764781Z"
    }
   },
   "outputs": [],
   "source": [
    "for c in images.keys():\n",
    "    # Remove images whose classes contain less than 2 per class\n",
    "    if len(images[c]) < 2:\n",
    "        for i in images[c]:\n",
    "            os.remove(os.getcwd() + \"/\" + i)\n",
    "    # For classes with more than 2 images, randomly sample only 2 images from them\n",
    "    elif len(images[c]) > 2:\n",
    "        to_delete = set(random.sample(images[c], len(images[c]) - 2))\n",
    "        for i in to_delete:\n",
    "            os.remove(os.getcwd() + \"/\" + i)"
   ]
  },
  {
   "cell_type": "code",
   "execution_count": 45,
   "metadata": {
    "ExecuteTime": {
     "end_time": "2019-11-09T18:56:54.981212Z",
     "start_time": "2019-11-09T18:56:54.974167Z"
    }
   },
   "outputs": [],
   "source": [
    "for i in images['00002']:\n",
    "    os.remove(os.getcwd() + \"/\" + i)"
   ]
  },
  {
   "cell_type": "code",
   "execution_count": 48,
   "metadata": {
    "ExecuteTime": {
     "end_time": "2019-11-09T18:57:06.732187Z",
     "start_time": "2019-11-09T18:57:06.722140Z"
    }
   },
   "outputs": [
    {
     "data": {
      "text/plain": [
       "500"
      ]
     },
     "execution_count": 48,
     "metadata": {},
     "output_type": "execute_result"
    }
   ],
   "source": [
    "len(images)"
   ]
  },
  {
   "cell_type": "code",
   "execution_count": 31,
   "metadata": {
    "ExecuteTime": {
     "end_time": "2020-01-07T22:59:39.316039Z",
     "start_time": "2020-01-07T22:59:39.243075Z"
    }
   },
   "outputs": [],
   "source": [
    "for image in glob.glob(\"data/white/*\"):\n",
    "    os.rename(image, image[:-5] + \"w\" + \".pgm\")"
   ]
  },
  {
   "cell_type": "code",
   "execution_count": 15,
   "metadata": {
    "ExecuteTime": {
     "end_time": "2020-01-07T22:34:51.311847Z",
     "start_time": "2020-01-07T22:34:51.260621Z"
    }
   },
   "outputs": [
    {
     "data": {
      "text/plain": [
       "'/Users/ionutdeaconu/Documents/ML/Projects/face-recognition/face-recognition/notebook'"
      ]
     },
     "execution_count": 15,
     "metadata": {},
     "output_type": "execute_result"
    }
   ],
   "source": [
    "os.getcwd()"
   ]
  },
  {
   "cell_type": "code",
   "execution_count": null,
   "metadata": {},
   "outputs": [],
   "source": []
  }
 ],
 "metadata": {
  "kernelspec": {
   "display_name": "Python 3",
   "language": "python",
   "name": "python3"
  },
  "language_info": {
   "codemirror_mode": {
    "name": "ipython",
    "version": 3
   },
   "file_extension": ".py",
   "mimetype": "text/x-python",
   "name": "python",
   "nbconvert_exporter": "python",
   "pygments_lexer": "ipython3",
   "version": "3.7.4"
  },
  "latex_envs": {
   "LaTeX_envs_menu_present": true,
   "autoclose": false,
   "autocomplete": true,
   "bibliofile": "biblio.bib",
   "cite_by": "apalike",
   "current_citInitial": 1,
   "eqLabelWithNumbers": true,
   "eqNumInitial": 1,
   "hotkeys": {
    "equation": "Ctrl-E",
    "itemize": "Ctrl-I"
   },
   "labels_anchors": false,
   "latex_user_defs": false,
   "report_style_numbering": false,
   "user_envs_cfg": false
  },
  "toc": {
   "base_numbering": 1,
   "nav_menu": {},
   "number_sections": true,
   "sideBar": true,
   "skip_h1_title": false,
   "title_cell": "Table of Contents",
   "title_sidebar": "Contents",
   "toc_cell": false,
   "toc_position": {},
   "toc_section_display": true,
   "toc_window_display": false
  }
 },
 "nbformat": 4,
 "nbformat_minor": 2
}
