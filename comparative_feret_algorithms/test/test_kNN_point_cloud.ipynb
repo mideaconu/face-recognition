{
 "cells": [
  {
   "cell_type": "code",
   "execution_count": 3,
   "metadata": {
    "ExecuteTime": {
     "end_time": "2019-11-04T16:41:42.190973Z",
     "start_time": "2019-11-04T16:41:42.177253Z"
    }
   },
   "outputs": [],
   "source": [
    "import matplotlib.pyplot as plt\n",
    "import numpy as np\n",
    "import heapq\n",
    "from comparative_feret_algorithms import k_nearest_neighbours as knn"
   ]
  },
  {
   "cell_type": "code",
   "execution_count": 4,
   "metadata": {
    "ExecuteTime": {
     "end_time": "2019-11-04T16:41:42.212653Z",
     "start_time": "2019-11-04T16:41:42.204632Z"
    }
   },
   "outputs": [],
   "source": [
    "def euclidean(a, b):\n",
    "    return np.linalg.norm(a - b)"
   ]
  },
  {
   "cell_type": "code",
   "execution_count": 5,
   "metadata": {
    "ExecuteTime": {
     "end_time": "2019-11-04T16:41:42.231648Z",
     "start_time": "2019-11-04T16:41:42.219701Z"
    }
   },
   "outputs": [],
   "source": [
    "data1 = np.array([[1, 1], [1, 4], [2, 2], [2, 8], [2, 9], [3, 6], [3, 8], [3, 9], [4, 3], [4, 6], [4, 8], [7, 2], [7, 7], [7, 9], [9, 3], [10, 10]])\n",
    "data2 = np.array([[1, 1], [1, 4], [2, 2], [4, 3], [4, 6], [4, 8], [7, 7], [7, 9], [10, 10]])"
   ]
  },
  {
   "cell_type": "code",
   "execution_count": 6,
   "metadata": {
    "ExecuteTime": {
     "end_time": "2019-11-04T16:41:42.764489Z",
     "start_time": "2019-11-04T16:41:42.267769Z"
    }
   },
   "outputs": [
    {
     "data": {
      "text/plain": [
       "Text(0.5, 1.0, 'Initial data')"
      ]
     },
     "execution_count": 6,
     "metadata": {},
     "output_type": "execute_result"
    },
    {
     "data": {
      "image/png": "[encoded data removed]",
      "text/plain": [
       "<Figure size 360x360 with 1 Axes>"
      ]
     },
     "metadata": {
      "needs_background": "light"
     },
     "output_type": "display_data"
    }
   ],
   "source": [
    "plt.figure(figsize=(5, 5))\n",
    "plt.scatter(data1[:, 0], data1[:, 1], s=15, color='steelblue', alpha=1)\n",
    "#plt.hlines(0, -3, 3, linestyle=':'); plt.vlines(0, -3, 3, linestyle=':')\n",
    "plt.xlim(0, 10); plt.ylim(0, 10)\n",
    "plt.title(\"Initial data\")"
   ]
  },
  {
   "cell_type": "code",
   "execution_count": 7,
   "metadata": {
    "ExecuteTime": {
     "end_time": "2019-11-04T16:41:43.197988Z",
     "start_time": "2019-11-04T16:41:42.777500Z"
    }
   },
   "outputs": [
    {
     "data": {
      "text/plain": [
       "Text(0.5, 1.0, 'Initial data')"
      ]
     },
     "execution_count": 7,
     "metadata": {},
     "output_type": "execute_result"
    },
    {
     "data": {
      "image/png": "[encoded data removed]",
      "text/plain": [
       "<Figure size 360x360 with 1 Axes>"
      ]
     },
     "metadata": {
      "needs_background": "light"
     },
     "output_type": "display_data"
    }
   ],
   "source": [
    "plt.figure(figsize=(5, 5))\n",
    "plt.scatter(data2[:, 0], data2[:, 1], s=15, color='steelblue', alpha=1)\n",
    "#plt.hlines(0, -3, 3, linestyle=':'); plt.vlines(0, -3, 3, linestyle=':')\n",
    "plt.xlim(0, 10); plt.ylim(0, 10)\n",
    "plt.title(\"Initial data\")"
   ]
  },
  {
   "cell_type": "code",
   "execution_count": 8,
   "metadata": {
    "ExecuteTime": {
     "end_time": "2019-11-04T16:41:43.232670Z",
     "start_time": "2019-11-04T16:41:43.216198Z"
    }
   },
   "outputs": [],
   "source": [
    "query = np.array([10, 5])"
   ]
  },
  {
   "cell_type": "code",
   "execution_count": 9,
   "metadata": {
    "ExecuteTime": {
     "end_time": "2019-11-04T16:41:43.272358Z",
     "start_time": "2019-11-04T16:41:43.237074Z"
    }
   },
   "outputs": [
    {
     "ename": "AttributeError",
     "evalue": "'kNN' object has no attribute '_kNN__pq'",
     "output_type": "error",
     "traceback": [
      "\u001b[0;31m---------------------------------------------------------------------------\u001b[0m",
      "\u001b[0;31mAttributeError\u001b[0m                            Traceback (most recent call last)",
      "\u001b[0;32m<ipython-input-9-d7b87f6d52a6>\u001b[0m in \u001b[0;36m<module>\u001b[0;34m\u001b[0m\n\u001b[1;32m      1\u001b[0m \u001b[0mnn\u001b[0m \u001b[0;34m=\u001b[0m \u001b[0mknn\u001b[0m\u001b[0;34m.\u001b[0m\u001b[0mkNN\u001b[0m\u001b[0;34m(\u001b[0m\u001b[0mdata1\u001b[0m\u001b[0;34m,\u001b[0m \u001b[0mdata1\u001b[0m\u001b[0;34m,\u001b[0m \u001b[0meuclidean\u001b[0m\u001b[0;34m,\u001b[0m \u001b[0;36m1\u001b[0m\u001b[0;34m)\u001b[0m\u001b[0;34m\u001b[0m\u001b[0;34m\u001b[0m\u001b[0m\n\u001b[1;32m      2\u001b[0m \u001b[0mnn\u001b[0m\u001b[0;34m.\u001b[0m\u001b[0mconstruct_ball_tree\u001b[0m\u001b[0;34m(\u001b[0m\u001b[0;34m)\u001b[0m\u001b[0;34m\u001b[0m\u001b[0;34m\u001b[0m\u001b[0m\n\u001b[0;32m----> 3\u001b[0;31m \u001b[0mfound\u001b[0m \u001b[0;34m=\u001b[0m \u001b[0mnn\u001b[0m\u001b[0;34m.\u001b[0m\u001b[0mfind_knn\u001b[0m\u001b[0;34m(\u001b[0m\u001b[0;36m5\u001b[0m\u001b[0;34m,\u001b[0m \u001b[0mquery\u001b[0m\u001b[0;34m)\u001b[0m\u001b[0;34m\u001b[0m\u001b[0;34m\u001b[0m\u001b[0m\n\u001b[0m",
      "\u001b[0;32m/Library/Frameworks/Python.framework/Versions/3.6/lib/python3.6/site-packages/comparative_feret_algorithms/k_nearest_neighbours.py\u001b[0m in \u001b[0;36mfind_knn\u001b[0;34m(self, k, point)\u001b[0m\n\u001b[1;32m     69\u001b[0m         \u001b[0mheapq\u001b[0m\u001b[0;34m.\u001b[0m\u001b[0mheapify\u001b[0m\u001b[0;34m(\u001b[0m\u001b[0mself\u001b[0m\u001b[0;34m.\u001b[0m\u001b[0m_pq\u001b[0m\u001b[0;34m)\u001b[0m\u001b[0;34m\u001b[0m\u001b[0;34m\u001b[0m\u001b[0m\n\u001b[1;32m     70\u001b[0m         \u001b[0mself\u001b[0m\u001b[0;34m.\u001b[0m\u001b[0m_search_kd_subtree\u001b[0m\u001b[0;34m(\u001b[0m\u001b[0mself\u001b[0m\u001b[0;34m.\u001b[0m\u001b[0m_ball_tree\u001b[0m\u001b[0;34m.\u001b[0m\u001b[0mroot\u001b[0m\u001b[0;34m,\u001b[0m \u001b[0mk\u001b[0m\u001b[0;34m,\u001b[0m \u001b[0mpoint\u001b[0m\u001b[0;34m)\u001b[0m\u001b[0;34m\u001b[0m\u001b[0;34m\u001b[0m\u001b[0m\n\u001b[0;32m---> 71\u001b[0;31m         \u001b[0mneighbour_labels\u001b[0m \u001b[0;34m=\u001b[0m \u001b[0mnp\u001b[0m\u001b[0;34m.\u001b[0m\u001b[0marray\u001b[0m\u001b[0;34m(\u001b[0m\u001b[0;34m[\u001b[0m\u001b[0mself\u001b[0m\u001b[0;34m.\u001b[0m\u001b[0m_labels\u001b[0m\u001b[0;34m[\u001b[0m\u001b[0mself\u001b[0m\u001b[0;34m.\u001b[0m\u001b[0m_data\u001b[0m\u001b[0;34m.\u001b[0m\u001b[0mtolist\u001b[0m\u001b[0;34m(\u001b[0m\u001b[0;34m)\u001b[0m\u001b[0;34m.\u001b[0m\u001b[0mindex\u001b[0m\u001b[0;34m(\u001b[0m\u001b[0mi\u001b[0m\u001b[0;34m[\u001b[0m\u001b[0;36m1\u001b[0m\u001b[0;34m]\u001b[0m\u001b[0;34m)\u001b[0m\u001b[0;34m]\u001b[0m \u001b[0;32mfor\u001b[0m \u001b[0mi\u001b[0m \u001b[0;32min\u001b[0m \u001b[0mself\u001b[0m\u001b[0;34m.\u001b[0m\u001b[0m__pq\u001b[0m\u001b[0;34m]\u001b[0m\u001b[0;34m)\u001b[0m\u001b[0;34m\u001b[0m\u001b[0;34m\u001b[0m\u001b[0m\n\u001b[0m\u001b[1;32m     72\u001b[0m         \u001b[0;32mreturn\u001b[0m \u001b[0mneighbour_labels\u001b[0m\u001b[0;34m\u001b[0m\u001b[0;34m\u001b[0m\u001b[0m\n\u001b[1;32m     73\u001b[0m \u001b[0;34m\u001b[0m\u001b[0m\n",
      "\u001b[0;31mAttributeError\u001b[0m: 'kNN' object has no attribute '_kNN__pq'"
     ]
    }
   ],
   "source": [
    "nn = knn.kNN(data1, data1, euclidean, 1)\n",
    "nn.construct_ball_tree()\n",
    "found = nn.find_knn(5, query)"
   ]
  },
  {
   "cell_type": "code",
   "execution_count": null,
   "metadata": {
    "ExecuteTime": {
     "end_time": "2019-11-04T16:41:43.279057Z",
     "start_time": "2019-11-04T16:41:42.189Z"
    }
   },
   "outputs": [],
   "source": [
    "plt.figure(figsize=(5, 5))\n",
    "plt.scatter(query[0], query[1], s=15, color='red')\n",
    "plt.scatter(data1[:, 0], data1[:, 1], s=15, color='steelblue', alpha=0.2)\n",
    "plt.scatter(found[:, 0], found[:, 1], s=15, color='steelblue')\n",
    "radius = plt.Circle(query, euclidean(found[heapq.nlargest(1, range(len([euclidean(query, point) for point in found])), key=[euclidean(query, point) for point in found].__getitem__)], query), color='r', alpha=0.1)\n",
    "plt.gcf().gca().add_artist(radius)\n",
    "#plt.hlines(0, -3, 3, linestyle=':'); plt.vlines(0, -3, 3, linestyle=':')\n",
    "plt.xlim(0, 11); plt.ylim(0, 11)\n",
    "plt.title(\"Query \" + str(query))"
   ]
  },
  {
   "cell_type": "code",
   "execution_count": null,
   "metadata": {
    "ExecuteTime": {
     "end_time": "2019-11-04T16:41:43.286540Z",
     "start_time": "2019-11-04T16:41:42.191Z"
    }
   },
   "outputs": [],
   "source": [
    "nn = knn.kNN(data2, data2, euclidean, 1)\n",
    "nn.construct_tree()\n",
    "found = nn.find_knn(5, query)"
   ]
  },
  {
   "cell_type": "code",
   "execution_count": null,
   "metadata": {
    "ExecuteTime": {
     "end_time": "2019-11-04T16:41:43.299695Z",
     "start_time": "2019-11-04T16:41:42.192Z"
    }
   },
   "outputs": [],
   "source": [
    "plt.figure(figsize=(5, 5))\n",
    "plt.scatter(query[0], query[1], s=15, color='red')\n",
    "plt.scatter(data2[:, 0], data2[:, 1], s=15, color='steelblue', alpha=0.2)\n",
    "plt.scatter(found[:, 0], found[:, 1], s=15, color='steelblue')\n",
    "radius = plt.Circle(query, euclidean(found[heapq.nlargest(1, range(len([euclidean(query, point) for point in found])), key=[euclidean(query, point) for point in found].__getitem__)], query), color='r', alpha=0.1)\n",
    "plt.gcf().gca().add_artist(radius)\n",
    "#plt.hlines(0, -3, 3, linestyle=':'); plt.vlines(0, -3, 3, linestyle=':')\n",
    "plt.xlim(0, 11); plt.ylim(0, 11)\n",
    "plt.title(\"Query \" + str(query))"
   ]
  },
  {
   "cell_type": "code",
   "execution_count": null,
   "metadata": {
    "ExecuteTime": {
     "end_time": "2019-11-04T16:41:43.303835Z",
     "start_time": "2019-11-04T16:41:42.196Z"
    }
   },
   "outputs": [],
   "source": [
    "def draw_circles(bn):\n",
    "    ball = plt.Circle(bn.pivot, bn.radius, color='r', alpha=.07)\n",
    "    plt.scatter(bn.pivot[0], bn.pivot[1], color='green', alpha=0.2)\n",
    "    plt.gcf().gca().add_artist(ball)\n",
    "    if bn.is_leaf() == False:\n",
    "        if bn.farthest_child != None:\n",
    "            draw_circles(bn.farthest_child)\n",
    "        if bn.closest_child != None:\n",
    "            draw_circles(bn.closest_child)"
   ]
  },
  {
   "cell_type": "code",
   "execution_count": null,
   "metadata": {
    "ExecuteTime": {
     "end_time": "2019-11-04T16:41:43.307262Z",
     "start_time": "2019-11-04T16:41:42.198Z"
    }
   },
   "outputs": [],
   "source": [
    "plt.figure(figsize=(10, 10))\n",
    "plt.scatter(data2[:, 0], data2[:, 1], s=15, color='steelblue', alpha=1)\n",
    "plt.xlim(-4, 13.5); plt.ylim(-2.5, 15)\n",
    "plt.scatter(query[0], query[1], s=15, color='red')\n",
    "\n",
    "bn = nn.ball_tree.root\n",
    "draw_circles(bn)"
   ]
  },
  {
   "cell_type": "code",
   "execution_count": null,
   "metadata": {
    "ExecuteTime": {
     "end_time": "2019-11-04T16:41:43.311747Z",
     "start_time": "2019-11-04T16:41:42.201Z"
    }
   },
   "outputs": [],
   "source": [
    "plt.figure(figsize=(15, 15))\n",
    "plt.scatter(data1[:, 0], data1[:, 1], s=15, color='steelblue', alpha=1)\n",
    "plt.xlim(-4, 13.5); plt.ylim(-2.5, 15)\n",
    "\n",
    "bn = nn.get_ball_tree().get_root()\n",
    "draw_circles(bn)"
   ]
  },
  {
   "cell_type": "code",
   "execution_count": null,
   "metadata": {},
   "outputs": [],
   "source": []
  }
 ],
 "metadata": {
  "kernelspec": {
   "display_name": "Python 3",
   "language": "python",
   "name": "python3"
  },
  "language_info": {
   "codemirror_mode": {
    "name": "ipython",
    "version": 3
   },
   "file_extension": ".py",
   "mimetype": "text/x-python",
   "name": "python",
   "nbconvert_exporter": "python",
   "pygments_lexer": "ipython3",
   "version": "3.6.7"
  },
  "latex_envs": {
   "LaTeX_envs_menu_present": true,
   "autoclose": false,
   "autocomplete": true,
   "bibliofile": "biblio.bib",
   "cite_by": "apalike",
   "current_citInitial": 1,
   "eqLabelWithNumbers": true,
   "eqNumInitial": 1,
   "hotkeys": {
    "equation": "Ctrl-E",
    "itemize": "Ctrl-I"
   },
   "labels_anchors": false,
   "latex_user_defs": false,
   "report_style_numbering": false,
   "user_envs_cfg": false
  },
  "toc": {
   "base_numbering": 1,
   "nav_menu": {},
   "number_sections": true,
   "sideBar": true,
   "skip_h1_title": false,
   "title_cell": "Table of Contents",
   "title_sidebar": "Contents",
   "toc_cell": false,
   "toc_position": {},
   "toc_section_display": true,
   "toc_window_display": false
  }
 },
 "nbformat": 4,
 "nbformat_minor": 2
}
